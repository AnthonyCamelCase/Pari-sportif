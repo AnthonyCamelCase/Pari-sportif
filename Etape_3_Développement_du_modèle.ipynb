{
 "cells": [
  {
   "cell_type": "markdown",
   "metadata": {},
   "source": [
    "<h1 style=\"text-decoration :underline;color:red\">Prédiction du vainqueur :</h1>\n",
    "\n",
    "<p style=\"color:blue\">Le but de ce notebook est de déterminer le vainqueur entre le favori et le challenger ainsi que la probabilité de victoire de chacun des joueurs. Ensuite on cherchera à déterminer l'écart significatif entre nos probabilités de victoires et celles des bookmakers pour parier sur les bons matchs afin d'obtenir le meilleur gain, ROI.</p>"
   ]
  },
  {
   "cell_type": "markdown",
   "metadata": {},
   "source": [
    "<h2 style=\"text-decoration :underline;color:green\">Module utilisé lors de ce notebook :</h2>"
   ]
  },
  {
   "cell_type": "code",
   "execution_count": 52,
   "metadata": {},
   "outputs": [],
   "source": [
    "import pandas as pd\n",
    "import matplotlib.pyplot as plt\n",
    "import matplotlib\n",
    "import seaborn as sns\n",
    "import numpy as np\n",
    "\n",
    "from sklearn.model_selection import train_test_split\n",
    "from sklearn.model_selection import GridSearchCV,RandomizedSearchCV\n",
    "from sklearn.model_selection import StratifiedKFold, cross_val_score\n",
    "from sklearn import neighbors\n",
    "from sklearn.tree import DecisionTreeClassifier\n",
    "from sklearn.linear_model import LogisticRegression\n",
    "from sklearn.ensemble import RandomForestClassifier\n",
    "from sklearn.preprocessing import MinMaxScaler\n",
    "from sklearn.metrics import roc_auc_score,balanced_accuracy_score,make_scorer\n",
    "from xgboost import XGBClassifier\n",
    "from sklearn.metrics import plot_confusion_matrix,confusion_matrix,classification_report\n",
    "\n",
    "pd.set_option('max_columns', 40)"
   ]
  },
  {
   "cell_type": "markdown",
   "metadata": {},
   "source": [
    "<h2 style=\"text-decoration :underline;color:green\">lecture du fichier:</h2>"
   ]
  },
  {
   "cell_type": "code",
   "execution_count": 53,
   "metadata": {},
   "outputs": [],
   "source": [
    "\n",
    "df = pd.read_csv(\"data_clean_all.csv\",index_col=0)"
   ]
  },
  {
   "cell_type": "markdown",
   "metadata": {},
   "source": [
    "<h2 style=\"text-decoration :underline;color:green\">Features à nettoyer:</h2>"
   ]
  },
  {
   "cell_type": "markdown",
   "metadata": {},
   "source": [
    "<h3> Features qui seront supprimées"
   ]
  },
  {
   "cell_type": "markdown",
   "metadata": {},
   "source": [
    "<li><b>Tournament"
   ]
  },
  {
   "cell_type": "code",
   "execution_count": 54,
   "metadata": {},
   "outputs": [
    {
     "data": {
      "text/plain": [
       "Australian Open                  1424\n",
       "Wimbledon                        1374\n",
       "US Open                          1355\n",
       "French Open                      1351\n",
       "Sony Ericsson Open                791\n",
       "                                 ... \n",
       "Vietnam Open                       21\n",
       "Antalya Open                       21\n",
       "CAM Open Comunidad Valenciana      21\n",
       "Orange Prokom Open                 21\n",
       "Tata Open                          20\n",
       "Name: Tournament, Length: 170, dtype: int64"
      ]
     },
     "execution_count": 54,
     "metadata": {},
     "output_type": "execute_result"
    }
   ],
   "source": [
    "#la feature Tournament comporte beaucoup de modalités (170) et n'apparait pas pertinente pour notre modèle.\n",
    "df.Tournament.value_counts()"
   ]
  },
  {
   "cell_type": "markdown",
   "metadata": {},
   "source": [
    "<li><b>Location"
   ]
  },
  {
   "cell_type": "code",
   "execution_count": 55,
   "metadata": {},
   "outputs": [
    {
     "data": {
      "text/plain": [
       "Paris              1882\n",
       "London             1479\n",
       "Melbourne          1424\n",
       "New York           1378\n",
       "Indian Wells       1066\n",
       "                   ... \n",
       "Oeiras               23\n",
       "Ho Chi Min City      21\n",
       "Antalya              21\n",
       "Warsaw               21\n",
       "Pune                 20\n",
       "Name: Location, Length: 101, dtype: int64"
      ]
     },
     "execution_count": 55,
     "metadata": {},
     "output_type": "execute_result"
    }
   ],
   "source": [
    "#la feature Location comporte beaucoup de modalités (101) et n'apparait pas pertinente pour notre modèle.\n",
    "df.Location.value_counts()"
   ]
  },
  {
   "cell_type": "markdown",
   "metadata": {},
   "source": [
    "<li><b>Round"
   ]
  },
  {
   "cell_type": "code",
   "execution_count": 56,
   "metadata": {},
   "outputs": [
    {
     "data": {
      "text/plain": [
       "1st Round        11921\n",
       "2nd Round         8700\n",
       "Quarterfinals     3028\n",
       "3rd Round         2229\n",
       "Semifinals        1538\n",
       "The Final          781\n",
       "4th Round          558\n",
       "Round Robin        235\n",
       "Name: Round, dtype: int64"
      ]
     },
     "execution_count": 56,
     "metadata": {},
     "output_type": "execute_result"
    }
   ],
   "source": [
    "#la feature Round comporte 8 modalités\n",
    "df.Round.value_counts()"
   ]
  },
  {
   "cell_type": "code",
   "execution_count": 57,
   "metadata": {},
   "outputs": [
    {
     "data": {
      "image/png": "[encoded data removed]",
      "text/plain": [
       "<Figure size 864x288 with 1 Axes>"
      ]
     },
     "metadata": {
      "needs_background": "light"
     },
     "output_type": "display_data"
    }
   ],
   "source": [
    "plt.figure(figsize=(12,4))\n",
    "sns.countplot(x='Round',data=df,hue=\"Vainqueur\");\n",
    "#on remarque que cette feature n'influence pas la target, on observe toujours 2 fois plus de victoire favori que challenger."
   ]
  },
  {
   "cell_type": "markdown",
   "metadata": {},
   "source": [
    "<li><b>Comment"
   ]
  },
  {
   "cell_type": "code",
   "execution_count": 58,
   "metadata": {},
   "outputs": [
    {
     "data": {
      "text/plain": [
       "Completed    28990\n",
       "Name: Comment, dtype: int64"
      ]
     },
     "execution_count": 58,
     "metadata": {},
     "output_type": "execute_result"
    }
   ],
   "source": [
    "#on a supprimé les quelques valeurs manquantes et il ne reste qu'une seule modalité.\n",
    "df.Comment.value_counts()"
   ]
  },
  {
   "cell_type": "markdown",
   "metadata": {},
   "source": [
    "<li>Favori et Challenger\n",
    "<p> Beaucoup trop de modalités dans ces features pour qu'elles soient pertinentes, même si quelques joueurs Nadal, Federer, Djokovic sortent du lot, on cherche à se baser sur les performances du joueur et non le joueur lui-même.</p>\n",
    "    "
   ]
  },
  {
   "cell_type": "markdown",
   "metadata": {},
   "source": [
    "<li><b>Date</b>\n",
    "<p>La date n'influe pas sur le score des matchs mais elle a permis de calculer de nouvelles features sur l'historique des performances des joueurs."
   ]
  },
  {
   "cell_type": "markdown",
   "metadata": {},
   "source": [
    "<li><b> Series"
   ]
  },
  {
   "cell_type": "code",
   "execution_count": 59,
   "metadata": {},
   "outputs": [
    {
     "data": {
      "text/plain": [
       "ATP250                6994\n",
       "Grand Slam            5504\n",
       "International         5437\n",
       "Masters 1000          3695\n",
       "ATP500                2796\n",
       "Masters               2695\n",
       "International Gold    1694\n",
       "Masters Cup            175\n",
       "Name: Series, dtype: int64"
      ]
     },
     "execution_count": 59,
     "metadata": {},
     "output_type": "execute_result"
    }
   ],
   "source": [
    "df.Series.value_counts()"
   ]
  },
  {
   "cell_type": "code",
   "execution_count": 60,
   "metadata": {},
   "outputs": [
    {
     "data": {
      "image/png": "[encoded data removed]",
      "text/plain": [
       "<Figure size 864x288 with 1 Axes>"
      ]
     },
     "metadata": {
      "needs_background": "light"
     },
     "output_type": "display_data"
    }
   ],
   "source": [
    "plt.figure(figsize=(12,4))\n",
    "sns.countplot(x='Series',data=df,hue=\"Vainqueur\");\n",
    "#le ratio de victoire est similaire entre favori et challenger quelque soit la serie"
   ]
  },
  {
   "cell_type": "markdown",
   "metadata": {},
   "source": [
    "<li><b>ATP</b>\n",
    "<p> Feature obscure comportant beaucoup trop de modalités pour être pertinente."
   ]
  },
  {
   "cell_type": "code",
   "execution_count": 61,
   "metadata": {},
   "outputs": [
    {
     "data": {
      "text/plain": [
       "6     1424\n",
       "19    1071\n",
       "20     981\n",
       "51     890\n",
       "31     820\n",
       "      ... \n",
       "4      282\n",
       "22     277\n",
       "8      276\n",
       "66     219\n",
       "67      56\n",
       "Name: ATP, Length: 67, dtype: int64"
      ]
     },
     "execution_count": 61,
     "metadata": {},
     "output_type": "execute_result"
    }
   ],
   "source": [
    "df.ATP.value_counts()"
   ]
  },
  {
   "cell_type": "markdown",
   "metadata": {},
   "source": [
    "<li><b>Winner, Wsets et Lsets</b>\n",
    "<p> Ces features ne sont pas connues avant le match !!!\n",
    "    "
   ]
  },
  {
   "cell_type": "markdown",
   "metadata": {},
   "source": [
    "<li><b>Features des bookmakers</b>\n",
    "<p> On enlève les cotes des bookmaker pour ne pas être biaisé par leur propre prédiction. Le but est de battre leur cote justement."
   ]
  },
  {
   "cell_type": "code",
   "execution_count": 62,
   "metadata": {},
   "outputs": [],
   "source": [
    "#on enlève les variables non pertinentes pour l'algo\n",
    "\n",
    "df= df.drop([\"Favori\",\"Challenger\",\"Comment\",\"Tournament\",\"Round\",\"Location\",\"Date\",\"Series\",\"ATP\",\"Winner\",\"Wsets\",\"Lsets\",\"B365_F\",\"B365_C\"],axis=1)\n",
    "df = df.reset_index().drop(\"index\",axis=1)"
   ]
  },
  {
   "cell_type": "code",
   "execution_count": 63,
   "metadata": {},
   "outputs": [
    {
     "data": {
      "text/html": [
       "<div>\n",
       "<style scoped>\n",
       "    .dataframe tbody tr th:only-of-type {\n",
       "        vertical-align: middle;\n",
       "    }\n",
       "\n",
       "    .dataframe tbody tr th {\n",
       "        vertical-align: top;\n",
       "    }\n",
       "\n",
       "    .dataframe thead th {\n",
       "        text-align: right;\n",
       "    }\n",
       "</style>\n",
       "<table border=\"1\" class=\"dataframe\">\n",
       "  <thead>\n",
       "    <tr style=\"text-align: right;\">\n",
       "      <th></th>\n",
       "      <th>Rank_F</th>\n",
       "      <th>PS_F</th>\n",
       "      <th>elo_F</th>\n",
       "      <th>proba_elo_F</th>\n",
       "      <th>TV_F</th>\n",
       "      <th>TV_surf_F</th>\n",
       "      <th>sets_F</th>\n",
       "      <th>Rank_C</th>\n",
       "      <th>PS_C</th>\n",
       "      <th>elo_C</th>\n",
       "      <th>proba_elo_C</th>\n",
       "      <th>TV_C</th>\n",
       "      <th>TV_surf_C</th>\n",
       "      <th>sets_C</th>\n",
       "      <th>Court</th>\n",
       "      <th>Surface</th>\n",
       "      <th>Best of</th>\n",
       "      <th>Vainqueur</th>\n",
       "      <th>moy_elo_F</th>\n",
       "      <th>moy_elo_C</th>\n",
       "    </tr>\n",
       "  </thead>\n",
       "  <tbody>\n",
       "    <tr>\n",
       "      <th>0</th>\n",
       "      <td>58</td>\n",
       "      <td>1.719</td>\n",
       "      <td>1618.182210</td>\n",
       "      <td>0.681306</td>\n",
       "      <td>0.500000</td>\n",
       "      <td>0.500000</td>\n",
       "      <td>0.0</td>\n",
       "      <td>246</td>\n",
       "      <td>2.21</td>\n",
       "      <td>1486.195239</td>\n",
       "      <td>0.318694</td>\n",
       "      <td>0.428571</td>\n",
       "      <td>0.500000</td>\n",
       "      <td>0.0</td>\n",
       "      <td>Outdoor</td>\n",
       "      <td>Hard</td>\n",
       "      <td>3</td>\n",
       "      <td>challenger</td>\n",
       "      <td>-36.522332</td>\n",
       "      <td>-20.871951</td>\n",
       "    </tr>\n",
       "    <tr>\n",
       "      <th>1</th>\n",
       "      <td>6</td>\n",
       "      <td>1.385</td>\n",
       "      <td>1820.759485</td>\n",
       "      <td>0.765687</td>\n",
       "      <td>0.763158</td>\n",
       "      <td>0.720000</td>\n",
       "      <td>0.0</td>\n",
       "      <td>43</td>\n",
       "      <td>3.25</td>\n",
       "      <td>1615.057648</td>\n",
       "      <td>0.234313</td>\n",
       "      <td>0.461538</td>\n",
       "      <td>0.428571</td>\n",
       "      <td>0.0</td>\n",
       "      <td>Outdoor</td>\n",
       "      <td>Hard</td>\n",
       "      <td>3</td>\n",
       "      <td>challenger</td>\n",
       "      <td>19.791315</td>\n",
       "      <td>41.588209</td>\n",
       "    </tr>\n",
       "    <tr>\n",
       "      <th>2</th>\n",
       "      <td>39</td>\n",
       "      <td>1.746</td>\n",
       "      <td>1654.468551</td>\n",
       "      <td>0.594046</td>\n",
       "      <td>0.666667</td>\n",
       "      <td>0.600000</td>\n",
       "      <td>0.0</td>\n",
       "      <td>67</td>\n",
       "      <td>2.18</td>\n",
       "      <td>1588.330984</td>\n",
       "      <td>0.405954</td>\n",
       "      <td>0.571429</td>\n",
       "      <td>0.555556</td>\n",
       "      <td>0.0</td>\n",
       "      <td>Outdoor</td>\n",
       "      <td>Hard</td>\n",
       "      <td>3</td>\n",
       "      <td>favori</td>\n",
       "      <td>15.865896</td>\n",
       "      <td>40.962208</td>\n",
       "    </tr>\n",
       "    <tr>\n",
       "      <th>3</th>\n",
       "      <td>52</td>\n",
       "      <td>2.060</td>\n",
       "      <td>1584.479208</td>\n",
       "      <td>0.522221</td>\n",
       "      <td>0.571429</td>\n",
       "      <td>0.500000</td>\n",
       "      <td>0.0</td>\n",
       "      <td>96</td>\n",
       "      <td>1.82</td>\n",
       "      <td>1569.027967</td>\n",
       "      <td>0.477779</td>\n",
       "      <td>0.461538</td>\n",
       "      <td>0.454545</td>\n",
       "      <td>0.0</td>\n",
       "      <td>Outdoor</td>\n",
       "      <td>Hard</td>\n",
       "      <td>3</td>\n",
       "      <td>favori</td>\n",
       "      <td>-4.357656</td>\n",
       "      <td>34.077361</td>\n",
       "    </tr>\n",
       "    <tr>\n",
       "      <th>4</th>\n",
       "      <td>92</td>\n",
       "      <td>1.455</td>\n",
       "      <td>1452.260713</td>\n",
       "      <td>0.440959</td>\n",
       "      <td>0.444444</td>\n",
       "      <td>0.333333</td>\n",
       "      <td>0.0</td>\n",
       "      <td>99</td>\n",
       "      <td>2.90</td>\n",
       "      <td>1493.478855</td>\n",
       "      <td>0.559041</td>\n",
       "      <td>0.666667</td>\n",
       "      <td>0.000000</td>\n",
       "      <td>0.0</td>\n",
       "      <td>Outdoor</td>\n",
       "      <td>Hard</td>\n",
       "      <td>3</td>\n",
       "      <td>favori</td>\n",
       "      <td>-61.224824</td>\n",
       "      <td>-10.241221</td>\n",
       "    </tr>\n",
       "    <tr>\n",
       "      <th>...</th>\n",
       "      <td>...</td>\n",
       "      <td>...</td>\n",
       "      <td>...</td>\n",
       "      <td>...</td>\n",
       "      <td>...</td>\n",
       "      <td>...</td>\n",
       "      <td>...</td>\n",
       "      <td>...</td>\n",
       "      <td>...</td>\n",
       "      <td>...</td>\n",
       "      <td>...</td>\n",
       "      <td>...</td>\n",
       "      <td>...</td>\n",
       "      <td>...</td>\n",
       "      <td>...</td>\n",
       "      <td>...</td>\n",
       "      <td>...</td>\n",
       "      <td>...</td>\n",
       "      <td>...</td>\n",
       "      <td>...</td>\n",
       "    </tr>\n",
       "    <tr>\n",
       "      <th>28985</th>\n",
       "      <td>15</td>\n",
       "      <td>2.430</td>\n",
       "      <td>1842.459807</td>\n",
       "      <td>0.509437</td>\n",
       "      <td>0.772727</td>\n",
       "      <td>0.772727</td>\n",
       "      <td>11.0</td>\n",
       "      <td>23</td>\n",
       "      <td>1.65</td>\n",
       "      <td>1835.901543</td>\n",
       "      <td>0.490563</td>\n",
       "      <td>0.631579</td>\n",
       "      <td>0.631579</td>\n",
       "      <td>9.0</td>\n",
       "      <td>Outdoor</td>\n",
       "      <td>Hard</td>\n",
       "      <td>3</td>\n",
       "      <td>challenger</td>\n",
       "      <td>48.408738</td>\n",
       "      <td>165.883261</td>\n",
       "    </tr>\n",
       "    <tr>\n",
       "      <th>28986</th>\n",
       "      <td>8</td>\n",
       "      <td>1.340</td>\n",
       "      <td>1843.576914</td>\n",
       "      <td>0.755103</td>\n",
       "      <td>0.611111</td>\n",
       "      <td>0.611111</td>\n",
       "      <td>6.0</td>\n",
       "      <td>59</td>\n",
       "      <td>3.63</td>\n",
       "      <td>1647.967561</td>\n",
       "      <td>0.244897</td>\n",
       "      <td>0.428571</td>\n",
       "      <td>0.428571</td>\n",
       "      <td>4.0</td>\n",
       "      <td>Outdoor</td>\n",
       "      <td>Hard</td>\n",
       "      <td>3</td>\n",
       "      <td>favori</td>\n",
       "      <td>29.784931</td>\n",
       "      <td>46.204092</td>\n",
       "    </tr>\n",
       "    <tr>\n",
       "      <th>28987</th>\n",
       "      <td>69</td>\n",
       "      <td>2.090</td>\n",
       "      <td>1619.758421</td>\n",
       "      <td>0.545159</td>\n",
       "      <td>0.500000</td>\n",
       "      <td>0.571429</td>\n",
       "      <td>9.0</td>\n",
       "      <td>73</td>\n",
       "      <td>1.85</td>\n",
       "      <td>1588.293069</td>\n",
       "      <td>0.454841</td>\n",
       "      <td>0.692308</td>\n",
       "      <td>0.800000</td>\n",
       "      <td>9.0</td>\n",
       "      <td>Indoor</td>\n",
       "      <td>Clay</td>\n",
       "      <td>3</td>\n",
       "      <td>challenger</td>\n",
       "      <td>-61.940388</td>\n",
       "      <td>79.942472</td>\n",
       "    </tr>\n",
       "    <tr>\n",
       "      <th>28988</th>\n",
       "      <td>8</td>\n",
       "      <td>2.750</td>\n",
       "      <td>1851.413609</td>\n",
       "      <td>0.340138</td>\n",
       "      <td>0.666667</td>\n",
       "      <td>0.666667</td>\n",
       "      <td>9.0</td>\n",
       "      <td>9</td>\n",
       "      <td>1.52</td>\n",
       "      <td>1966.532849</td>\n",
       "      <td>0.659862</td>\n",
       "      <td>0.800000</td>\n",
       "      <td>0.800000</td>\n",
       "      <td>9.0</td>\n",
       "      <td>Outdoor</td>\n",
       "      <td>Hard</td>\n",
       "      <td>3</td>\n",
       "      <td>challenger</td>\n",
       "      <td>39.699484</td>\n",
       "      <td>220.827893</td>\n",
       "    </tr>\n",
       "    <tr>\n",
       "      <th>28989</th>\n",
       "      <td>20</td>\n",
       "      <td>1.380</td>\n",
       "      <td>1814.065865</td>\n",
       "      <td>0.768388</td>\n",
       "      <td>0.666667</td>\n",
       "      <td>0.750000</td>\n",
       "      <td>6.0</td>\n",
       "      <td>73</td>\n",
       "      <td>3.38</td>\n",
       "      <td>1605.738153</td>\n",
       "      <td>0.231612</td>\n",
       "      <td>0.714286</td>\n",
       "      <td>0.818182</td>\n",
       "      <td>12.0</td>\n",
       "      <td>Indoor</td>\n",
       "      <td>Clay</td>\n",
       "      <td>3</td>\n",
       "      <td>favori</td>\n",
       "      <td>-8.965147</td>\n",
       "      <td>91.677380</td>\n",
       "    </tr>\n",
       "  </tbody>\n",
       "</table>\n",
       "<p>28990 rows × 20 columns</p>\n",
       "</div>"
      ],
      "text/plain": [
       "       Rank_F   PS_F        elo_F  proba_elo_F      TV_F  TV_surf_F  sets_F  \\\n",
       "0          58  1.719  1618.182210     0.681306  0.500000   0.500000     0.0   \n",
       "1           6  1.385  1820.759485     0.765687  0.763158   0.720000     0.0   \n",
       "2          39  1.746  1654.468551     0.594046  0.666667   0.600000     0.0   \n",
       "3          52  2.060  1584.479208     0.522221  0.571429   0.500000     0.0   \n",
       "4          92  1.455  1452.260713     0.440959  0.444444   0.333333     0.0   \n",
       "...       ...    ...          ...          ...       ...        ...     ...   \n",
       "28985      15  2.430  1842.459807     0.509437  0.772727   0.772727    11.0   \n",
       "28986       8  1.340  1843.576914     0.755103  0.611111   0.611111     6.0   \n",
       "28987      69  2.090  1619.758421     0.545159  0.500000   0.571429     9.0   \n",
       "28988       8  2.750  1851.413609     0.340138  0.666667   0.666667     9.0   \n",
       "28989      20  1.380  1814.065865     0.768388  0.666667   0.750000     6.0   \n",
       "\n",
       "       Rank_C  PS_C        elo_C  proba_elo_C      TV_C  TV_surf_C  sets_C  \\\n",
       "0         246  2.21  1486.195239     0.318694  0.428571   0.500000     0.0   \n",
       "1          43  3.25  1615.057648     0.234313  0.461538   0.428571     0.0   \n",
       "2          67  2.18  1588.330984     0.405954  0.571429   0.555556     0.0   \n",
       "3          96  1.82  1569.027967     0.477779  0.461538   0.454545     0.0   \n",
       "4          99  2.90  1493.478855     0.559041  0.666667   0.000000     0.0   \n",
       "...       ...   ...          ...          ...       ...        ...     ...   \n",
       "28985      23  1.65  1835.901543     0.490563  0.631579   0.631579     9.0   \n",
       "28986      59  3.63  1647.967561     0.244897  0.428571   0.428571     4.0   \n",
       "28987      73  1.85  1588.293069     0.454841  0.692308   0.800000     9.0   \n",
       "28988       9  1.52  1966.532849     0.659862  0.800000   0.800000     9.0   \n",
       "28989      73  3.38  1605.738153     0.231612  0.714286   0.818182    12.0   \n",
       "\n",
       "         Court Surface  Best of   Vainqueur  moy_elo_F   moy_elo_C  \n",
       "0      Outdoor    Hard        3  challenger -36.522332  -20.871951  \n",
       "1      Outdoor    Hard        3  challenger  19.791315   41.588209  \n",
       "2      Outdoor    Hard        3      favori  15.865896   40.962208  \n",
       "3      Outdoor    Hard        3      favori  -4.357656   34.077361  \n",
       "4      Outdoor    Hard        3      favori -61.224824  -10.241221  \n",
       "...        ...     ...      ...         ...        ...         ...  \n",
       "28985  Outdoor    Hard        3  challenger  48.408738  165.883261  \n",
       "28986  Outdoor    Hard        3      favori  29.784931   46.204092  \n",
       "28987   Indoor    Clay        3  challenger -61.940388   79.942472  \n",
       "28988  Outdoor    Hard        3  challenger  39.699484  220.827893  \n",
       "28989   Indoor    Clay        3      favori  -8.965147   91.677380  \n",
       "\n",
       "[28990 rows x 20 columns]"
      ]
     },
     "execution_count": 63,
     "metadata": {},
     "output_type": "execute_result"
    }
   ],
   "source": [
    "df"
   ]
  },
  {
   "cell_type": "markdown",
   "metadata": {},
   "source": [
    "<hr>\n",
    "<h2 style=\"text-decoration :underline;color:green\">Séparation feature et target</h2>"
   ]
  },
  {
   "cell_type": "code",
   "execution_count": 64,
   "metadata": {},
   "outputs": [],
   "source": [
    "target = df.Vainqueur"
   ]
  },
  {
   "cell_type": "code",
   "execution_count": 65,
   "metadata": {},
   "outputs": [],
   "source": [
    "#on enlève les cotes des bookmaker pour ne pas être biaisé par leur valeur.\n",
    "data =  df.drop([\"Vainqueur\",\"PS_C\",\"PS_F\"],axis=1)\n"
   ]
  },
  {
   "cell_type": "markdown",
   "metadata": {},
   "source": [
    "<hr>\n",
    "<h2 style=\"text-decoration :underline;color:green\">Normalisation des données </h2>"
   ]
  },
  {
   "cell_type": "markdown",
   "metadata": {},
   "source": [
    "<h3 style=\"text-decoration :underline;color:blue\">Variables catégorielles </h3>"
   ]
  },
  {
   "cell_type": "code",
   "execution_count": 66,
   "metadata": {},
   "outputs": [],
   "source": [
    "#transformation en variables indicatrices\n",
    "cat = data.loc[:,data.dtypes==np.object]\n",
    "cat = pd.get_dummies(cat,drop_first=True)\n"
   ]
  },
  {
   "cell_type": "code",
   "execution_count": 67,
   "metadata": {},
   "outputs": [],
   "source": [
    "bestof = pd.get_dummies(df['Best of'],prefix='Best_of',drop_first=True)\n"
   ]
  },
  {
   "cell_type": "code",
   "execution_count": 68,
   "metadata": {},
   "outputs": [],
   "source": [
    "categorical = cat.join(bestof)\n"
   ]
  },
  {
   "cell_type": "code",
   "execution_count": 69,
   "metadata": {},
   "outputs": [
    {
     "data": {
      "text/html": [
       "<div>\n",
       "<style scoped>\n",
       "    .dataframe tbody tr th:only-of-type {\n",
       "        vertical-align: middle;\n",
       "    }\n",
       "\n",
       "    .dataframe tbody tr th {\n",
       "        vertical-align: top;\n",
       "    }\n",
       "\n",
       "    .dataframe thead th {\n",
       "        text-align: right;\n",
       "    }\n",
       "</style>\n",
       "<table border=\"1\" class=\"dataframe\">\n",
       "  <thead>\n",
       "    <tr style=\"text-align: right;\">\n",
       "      <th></th>\n",
       "      <th>Court_Outdoor</th>\n",
       "      <th>Surface_Clay</th>\n",
       "      <th>Surface_Grass</th>\n",
       "      <th>Surface_Hard</th>\n",
       "      <th>Best_of_5</th>\n",
       "    </tr>\n",
       "  </thead>\n",
       "  <tbody>\n",
       "    <tr>\n",
       "      <th>0</th>\n",
       "      <td>1</td>\n",
       "      <td>0</td>\n",
       "      <td>0</td>\n",
       "      <td>1</td>\n",
       "      <td>0</td>\n",
       "    </tr>\n",
       "    <tr>\n",
       "      <th>1</th>\n",
       "      <td>1</td>\n",
       "      <td>0</td>\n",
       "      <td>0</td>\n",
       "      <td>1</td>\n",
       "      <td>0</td>\n",
       "    </tr>\n",
       "    <tr>\n",
       "      <th>2</th>\n",
       "      <td>1</td>\n",
       "      <td>0</td>\n",
       "      <td>0</td>\n",
       "      <td>1</td>\n",
       "      <td>0</td>\n",
       "    </tr>\n",
       "    <tr>\n",
       "      <th>3</th>\n",
       "      <td>1</td>\n",
       "      <td>0</td>\n",
       "      <td>0</td>\n",
       "      <td>1</td>\n",
       "      <td>0</td>\n",
       "    </tr>\n",
       "    <tr>\n",
       "      <th>4</th>\n",
       "      <td>1</td>\n",
       "      <td>0</td>\n",
       "      <td>0</td>\n",
       "      <td>1</td>\n",
       "      <td>0</td>\n",
       "    </tr>\n",
       "    <tr>\n",
       "      <th>...</th>\n",
       "      <td>...</td>\n",
       "      <td>...</td>\n",
       "      <td>...</td>\n",
       "      <td>...</td>\n",
       "      <td>...</td>\n",
       "    </tr>\n",
       "    <tr>\n",
       "      <th>28985</th>\n",
       "      <td>1</td>\n",
       "      <td>0</td>\n",
       "      <td>0</td>\n",
       "      <td>1</td>\n",
       "      <td>0</td>\n",
       "    </tr>\n",
       "    <tr>\n",
       "      <th>28986</th>\n",
       "      <td>1</td>\n",
       "      <td>0</td>\n",
       "      <td>0</td>\n",
       "      <td>1</td>\n",
       "      <td>0</td>\n",
       "    </tr>\n",
       "    <tr>\n",
       "      <th>28987</th>\n",
       "      <td>0</td>\n",
       "      <td>1</td>\n",
       "      <td>0</td>\n",
       "      <td>0</td>\n",
       "      <td>0</td>\n",
       "    </tr>\n",
       "    <tr>\n",
       "      <th>28988</th>\n",
       "      <td>1</td>\n",
       "      <td>0</td>\n",
       "      <td>0</td>\n",
       "      <td>1</td>\n",
       "      <td>0</td>\n",
       "    </tr>\n",
       "    <tr>\n",
       "      <th>28989</th>\n",
       "      <td>0</td>\n",
       "      <td>1</td>\n",
       "      <td>0</td>\n",
       "      <td>0</td>\n",
       "      <td>0</td>\n",
       "    </tr>\n",
       "  </tbody>\n",
       "</table>\n",
       "<p>28990 rows × 5 columns</p>\n",
       "</div>"
      ],
      "text/plain": [
       "       Court_Outdoor  Surface_Clay  Surface_Grass  Surface_Hard  Best_of_5\n",
       "0                  1             0              0             1          0\n",
       "1                  1             0              0             1          0\n",
       "2                  1             0              0             1          0\n",
       "3                  1             0              0             1          0\n",
       "4                  1             0              0             1          0\n",
       "...              ...           ...            ...           ...        ...\n",
       "28985              1             0              0             1          0\n",
       "28986              1             0              0             1          0\n",
       "28987              0             1              0             0          0\n",
       "28988              1             0              0             1          0\n",
       "28989              0             1              0             0          0\n",
       "\n",
       "[28990 rows x 5 columns]"
      ]
     },
     "execution_count": 69,
     "metadata": {},
     "output_type": "execute_result"
    }
   ],
   "source": [
    "categorical"
   ]
  },
  {
   "cell_type": "markdown",
   "metadata": {},
   "source": [
    "<h3 style=\"text-decoration :underline;color:blue\">Variables numériques </h3>"
   ]
  },
  {
   "cell_type": "code",
   "execution_count": 70,
   "metadata": {},
   "outputs": [
    {
     "data": {
      "text/plain": [
       "(28990, 14)"
      ]
     },
     "execution_count": 70,
     "metadata": {},
     "output_type": "execute_result"
    }
   ],
   "source": [
    "#normalisation\n",
    "num= data.select_dtypes(include='number')\n",
    "num = num.drop(\"Best of\", axis=1)\n",
    "scaler = MinMaxScaler()\n",
    "num_scaled = pd.DataFrame(scaler.fit_transform(num), columns = num.columns)\n",
    "num_scaled.shape"
   ]
  },
  {
   "cell_type": "markdown",
   "metadata": {},
   "source": [
    "<h3 style=\"text-decoration :underline;color:blue\">Features finales </h3>"
   ]
  },
  {
   "cell_type": "code",
   "execution_count": 72,
   "metadata": {},
   "outputs": [
    {
     "data": {
      "text/html": [
       "<div>\n",
       "<style scoped>\n",
       "    .dataframe tbody tr th:only-of-type {\n",
       "        vertical-align: middle;\n",
       "    }\n",
       "\n",
       "    .dataframe tbody tr th {\n",
       "        vertical-align: top;\n",
       "    }\n",
       "\n",
       "    .dataframe thead th {\n",
       "        text-align: right;\n",
       "    }\n",
       "</style>\n",
       "<table border=\"1\" class=\"dataframe\">\n",
       "  <thead>\n",
       "    <tr style=\"text-align: right;\">\n",
       "      <th></th>\n",
       "      <th>Rank_F</th>\n",
       "      <th>elo_F</th>\n",
       "      <th>proba_elo_F</th>\n",
       "      <th>TV_F</th>\n",
       "      <th>TV_surf_F</th>\n",
       "      <th>sets_F</th>\n",
       "      <th>Rank_C</th>\n",
       "      <th>elo_C</th>\n",
       "      <th>proba_elo_C</th>\n",
       "      <th>TV_C</th>\n",
       "      <th>TV_surf_C</th>\n",
       "      <th>sets_C</th>\n",
       "      <th>moy_elo_F</th>\n",
       "      <th>moy_elo_C</th>\n",
       "      <th>Court_Outdoor</th>\n",
       "      <th>Surface_Clay</th>\n",
       "      <th>Surface_Grass</th>\n",
       "      <th>Surface_Hard</th>\n",
       "      <th>Best_of_5</th>\n",
       "    </tr>\n",
       "  </thead>\n",
       "  <tbody>\n",
       "    <tr>\n",
       "      <th>0</th>\n",
       "      <td>0.059548</td>\n",
       "      <td>0.271326</td>\n",
       "      <td>0.669519</td>\n",
       "      <td>0.500000</td>\n",
       "      <td>0.500000</td>\n",
       "      <td>0.000000</td>\n",
       "      <td>0.129237</td>\n",
       "      <td>0.163230</td>\n",
       "      <td>0.330481</td>\n",
       "      <td>0.428571</td>\n",
       "      <td>0.500000</td>\n",
       "      <td>0.000000</td>\n",
       "      <td>0.729413</td>\n",
       "      <td>0.295515</td>\n",
       "      <td>1</td>\n",
       "      <td>0</td>\n",
       "      <td>0</td>\n",
       "      <td>1</td>\n",
       "      <td>0</td>\n",
       "    </tr>\n",
       "    <tr>\n",
       "      <th>1</th>\n",
       "      <td>0.006160</td>\n",
       "      <td>0.461984</td>\n",
       "      <td>0.758246</td>\n",
       "      <td>0.763158</td>\n",
       "      <td>0.720000</td>\n",
       "      <td>0.000000</td>\n",
       "      <td>0.021716</td>\n",
       "      <td>0.292835</td>\n",
       "      <td>0.241754</td>\n",
       "      <td>0.461538</td>\n",
       "      <td>0.428571</td>\n",
       "      <td>0.000000</td>\n",
       "      <td>0.779021</td>\n",
       "      <td>0.376405</td>\n",
       "      <td>1</td>\n",
       "      <td>0</td>\n",
       "      <td>0</td>\n",
       "      <td>1</td>\n",
       "      <td>0</td>\n",
       "    </tr>\n",
       "    <tr>\n",
       "      <th>2</th>\n",
       "      <td>0.040041</td>\n",
       "      <td>0.305477</td>\n",
       "      <td>0.577766</td>\n",
       "      <td>0.666667</td>\n",
       "      <td>0.600000</td>\n",
       "      <td>0.000000</td>\n",
       "      <td>0.034428</td>\n",
       "      <td>0.265955</td>\n",
       "      <td>0.422234</td>\n",
       "      <td>0.571429</td>\n",
       "      <td>0.555556</td>\n",
       "      <td>0.000000</td>\n",
       "      <td>0.775563</td>\n",
       "      <td>0.375594</td>\n",
       "      <td>1</td>\n",
       "      <td>0</td>\n",
       "      <td>0</td>\n",
       "      <td>1</td>\n",
       "      <td>0</td>\n",
       "    </tr>\n",
       "    <tr>\n",
       "      <th>3</th>\n",
       "      <td>0.053388</td>\n",
       "      <td>0.239606</td>\n",
       "      <td>0.502243</td>\n",
       "      <td>0.571429</td>\n",
       "      <td>0.500000</td>\n",
       "      <td>0.000000</td>\n",
       "      <td>0.049788</td>\n",
       "      <td>0.246540</td>\n",
       "      <td>0.497757</td>\n",
       "      <td>0.461538</td>\n",
       "      <td>0.454545</td>\n",
       "      <td>0.000000</td>\n",
       "      <td>0.757747</td>\n",
       "      <td>0.366678</td>\n",
       "      <td>1</td>\n",
       "      <td>0</td>\n",
       "      <td>0</td>\n",
       "      <td>1</td>\n",
       "      <td>0</td>\n",
       "    </tr>\n",
       "    <tr>\n",
       "      <th>4</th>\n",
       "      <td>0.094456</td>\n",
       "      <td>0.115166</td>\n",
       "      <td>0.416796</td>\n",
       "      <td>0.444444</td>\n",
       "      <td>0.333333</td>\n",
       "      <td>0.000000</td>\n",
       "      <td>0.051377</td>\n",
       "      <td>0.170555</td>\n",
       "      <td>0.583204</td>\n",
       "      <td>0.666667</td>\n",
       "      <td>0.000000</td>\n",
       "      <td>0.000000</td>\n",
       "      <td>0.707651</td>\n",
       "      <td>0.309282</td>\n",
       "      <td>1</td>\n",
       "      <td>0</td>\n",
       "      <td>0</td>\n",
       "      <td>1</td>\n",
       "      <td>0</td>\n",
       "    </tr>\n",
       "    <tr>\n",
       "      <th>...</th>\n",
       "      <td>...</td>\n",
       "      <td>...</td>\n",
       "      <td>...</td>\n",
       "      <td>...</td>\n",
       "      <td>...</td>\n",
       "      <td>...</td>\n",
       "      <td>...</td>\n",
       "      <td>...</td>\n",
       "      <td>...</td>\n",
       "      <td>...</td>\n",
       "      <td>...</td>\n",
       "      <td>...</td>\n",
       "      <td>...</td>\n",
       "      <td>...</td>\n",
       "      <td>...</td>\n",
       "      <td>...</td>\n",
       "      <td>...</td>\n",
       "      <td>...</td>\n",
       "      <td>...</td>\n",
       "    </tr>\n",
       "    <tr>\n",
       "      <th>28985</th>\n",
       "      <td>0.015400</td>\n",
       "      <td>0.482408</td>\n",
       "      <td>0.488800</td>\n",
       "      <td>0.772727</td>\n",
       "      <td>0.772727</td>\n",
       "      <td>0.500000</td>\n",
       "      <td>0.011123</td>\n",
       "      <td>0.514953</td>\n",
       "      <td>0.511200</td>\n",
       "      <td>0.631579</td>\n",
       "      <td>0.631579</td>\n",
       "      <td>0.333333</td>\n",
       "      <td>0.804231</td>\n",
       "      <td>0.537375</td>\n",
       "      <td>1</td>\n",
       "      <td>0</td>\n",
       "      <td>0</td>\n",
       "      <td>1</td>\n",
       "      <td>0</td>\n",
       "    </tr>\n",
       "    <tr>\n",
       "      <th>28986</th>\n",
       "      <td>0.008214</td>\n",
       "      <td>0.483459</td>\n",
       "      <td>0.747117</td>\n",
       "      <td>0.611111</td>\n",
       "      <td>0.611111</td>\n",
       "      <td>0.272727</td>\n",
       "      <td>0.030191</td>\n",
       "      <td>0.325935</td>\n",
       "      <td>0.252883</td>\n",
       "      <td>0.428571</td>\n",
       "      <td>0.428571</td>\n",
       "      <td>0.148148</td>\n",
       "      <td>0.787825</td>\n",
       "      <td>0.382382</td>\n",
       "      <td>1</td>\n",
       "      <td>0</td>\n",
       "      <td>0</td>\n",
       "      <td>1</td>\n",
       "      <td>0</td>\n",
       "    </tr>\n",
       "    <tr>\n",
       "      <th>28987</th>\n",
       "      <td>0.070842</td>\n",
       "      <td>0.272809</td>\n",
       "      <td>0.526361</td>\n",
       "      <td>0.500000</td>\n",
       "      <td>0.571429</td>\n",
       "      <td>0.409091</td>\n",
       "      <td>0.037606</td>\n",
       "      <td>0.265916</td>\n",
       "      <td>0.473639</td>\n",
       "      <td>0.692308</td>\n",
       "      <td>0.800000</td>\n",
       "      <td>0.333333</td>\n",
       "      <td>0.707021</td>\n",
       "      <td>0.426076</td>\n",
       "      <td>0</td>\n",
       "      <td>1</td>\n",
       "      <td>0</td>\n",
       "      <td>0</td>\n",
       "      <td>0</td>\n",
       "    </tr>\n",
       "    <tr>\n",
       "      <th>28988</th>\n",
       "      <td>0.008214</td>\n",
       "      <td>0.490835</td>\n",
       "      <td>0.310783</td>\n",
       "      <td>0.666667</td>\n",
       "      <td>0.666667</td>\n",
       "      <td>0.409091</td>\n",
       "      <td>0.003708</td>\n",
       "      <td>0.646338</td>\n",
       "      <td>0.689217</td>\n",
       "      <td>0.800000</td>\n",
       "      <td>0.800000</td>\n",
       "      <td>0.333333</td>\n",
       "      <td>0.796559</td>\n",
       "      <td>0.608532</td>\n",
       "      <td>1</td>\n",
       "      <td>0</td>\n",
       "      <td>0</td>\n",
       "      <td>1</td>\n",
       "      <td>0</td>\n",
       "    </tr>\n",
       "    <tr>\n",
       "      <th>28989</th>\n",
       "      <td>0.020534</td>\n",
       "      <td>0.455684</td>\n",
       "      <td>0.761086</td>\n",
       "      <td>0.666667</td>\n",
       "      <td>0.750000</td>\n",
       "      <td>0.272727</td>\n",
       "      <td>0.037606</td>\n",
       "      <td>0.283462</td>\n",
       "      <td>0.238914</td>\n",
       "      <td>0.714286</td>\n",
       "      <td>0.818182</td>\n",
       "      <td>0.444444</td>\n",
       "      <td>0.753689</td>\n",
       "      <td>0.441273</td>\n",
       "      <td>0</td>\n",
       "      <td>1</td>\n",
       "      <td>0</td>\n",
       "      <td>0</td>\n",
       "      <td>0</td>\n",
       "    </tr>\n",
       "  </tbody>\n",
       "</table>\n",
       "<p>28990 rows × 19 columns</p>\n",
       "</div>"
      ],
      "text/plain": [
       "         Rank_F     elo_F  proba_elo_F      TV_F  TV_surf_F    sets_F  \\\n",
       "0      0.059548  0.271326     0.669519  0.500000   0.500000  0.000000   \n",
       "1      0.006160  0.461984     0.758246  0.763158   0.720000  0.000000   \n",
       "2      0.040041  0.305477     0.577766  0.666667   0.600000  0.000000   \n",
       "3      0.053388  0.239606     0.502243  0.571429   0.500000  0.000000   \n",
       "4      0.094456  0.115166     0.416796  0.444444   0.333333  0.000000   \n",
       "...         ...       ...          ...       ...        ...       ...   \n",
       "28985  0.015400  0.482408     0.488800  0.772727   0.772727  0.500000   \n",
       "28986  0.008214  0.483459     0.747117  0.611111   0.611111  0.272727   \n",
       "28987  0.070842  0.272809     0.526361  0.500000   0.571429  0.409091   \n",
       "28988  0.008214  0.490835     0.310783  0.666667   0.666667  0.409091   \n",
       "28989  0.020534  0.455684     0.761086  0.666667   0.750000  0.272727   \n",
       "\n",
       "         Rank_C     elo_C  proba_elo_C      TV_C  TV_surf_C    sets_C  \\\n",
       "0      0.129237  0.163230     0.330481  0.428571   0.500000  0.000000   \n",
       "1      0.021716  0.292835     0.241754  0.461538   0.428571  0.000000   \n",
       "2      0.034428  0.265955     0.422234  0.571429   0.555556  0.000000   \n",
       "3      0.049788  0.246540     0.497757  0.461538   0.454545  0.000000   \n",
       "4      0.051377  0.170555     0.583204  0.666667   0.000000  0.000000   \n",
       "...         ...       ...          ...       ...        ...       ...   \n",
       "28985  0.011123  0.514953     0.511200  0.631579   0.631579  0.333333   \n",
       "28986  0.030191  0.325935     0.252883  0.428571   0.428571  0.148148   \n",
       "28987  0.037606  0.265916     0.473639  0.692308   0.800000  0.333333   \n",
       "28988  0.003708  0.646338     0.689217  0.800000   0.800000  0.333333   \n",
       "28989  0.037606  0.283462     0.238914  0.714286   0.818182  0.444444   \n",
       "\n",
       "       moy_elo_F  moy_elo_C  Court_Outdoor  Surface_Clay  Surface_Grass  \\\n",
       "0       0.729413   0.295515              1             0              0   \n",
       "1       0.779021   0.376405              1             0              0   \n",
       "2       0.775563   0.375594              1             0              0   \n",
       "3       0.757747   0.366678              1             0              0   \n",
       "4       0.707651   0.309282              1             0              0   \n",
       "...          ...        ...            ...           ...            ...   \n",
       "28985   0.804231   0.537375              1             0              0   \n",
       "28986   0.787825   0.382382              1             0              0   \n",
       "28987   0.707021   0.426076              0             1              0   \n",
       "28988   0.796559   0.608532              1             0              0   \n",
       "28989   0.753689   0.441273              0             1              0   \n",
       "\n",
       "       Surface_Hard  Best_of_5  \n",
       "0                 1          0  \n",
       "1                 1          0  \n",
       "2                 1          0  \n",
       "3                 1          0  \n",
       "4                 1          0  \n",
       "...             ...        ...  \n",
       "28985             1          0  \n",
       "28986             1          0  \n",
       "28987             0          0  \n",
       "28988             1          0  \n",
       "28989             0          0  \n",
       "\n",
       "[28990 rows x 19 columns]"
      ]
     },
     "execution_count": 72,
     "metadata": {},
     "output_type": "execute_result"
    }
   ],
   "source": [
    "#jonction des variables numériques et  catégorielles\n",
    "data = num_scaled.join(categorical)\n",
    "\n",
    "data"
   ]
  },
  {
   "cell_type": "markdown",
   "metadata": {},
   "source": [
    "<hr>\n",
    "<h2 style=\"text-decoration :underline;color:green\">Séparation set entrainement et set test </h2>"
   ]
  },
  {
   "cell_type": "code",
   "execution_count": 73,
   "metadata": {},
   "outputs": [],
   "source": [
    "X_train,X_test,y_train,y_test = train_test_split(data,target,shuffle=False,test_size=0.2,random_state=1000)"
   ]
  },
  {
   "cell_type": "markdown",
   "metadata": {},
   "source": [
    "<hr>\n",
    "<h2 style=\"text-decoration :underline;color:green\">Développement des algo avec Grid des meilleurs hyperparamètres pour chaque algo </h2>"
   ]
  },
  {
   "cell_type": "code",
   "execution_count": 74,
   "metadata": {},
   "outputs": [],
   "source": [
    "#fonction qui fournit pour un modele donné, après double validation croisée, l'accuracy du modèle, son écart type, le résultat obtenu avec les meilleurs paramètres.\n",
    "def Grid(clf, param):\n",
    "    outer_cv = StratifiedKFold(n_splits = 5, shuffle=True)\n",
    "    grid_clf = GridSearchCV(estimator=clf,param_grid = param,n_jobs=-1)\n",
    "    grid_clf.fit(X_train,y_train)\n",
    "    score = cross_val_score(grid_clf,X_train,y_train,cv = outer_cv)\n",
    "    print(\"accuracy du modèle : \", score.mean())\n",
    "    print(\"ecart type du modèle : \", score.std())\n",
    "    \n",
    "    print(\"meilleur paramètre : \", grid_clf.best_params_)\n",
    "    print(\"score train : \",round(100*grid_clf.score(X_train,y_train),2))\n",
    "    print(\"score test : \", round(100*grid_clf.score(X_test,y_test),2))\n",
    "    \n",
    "    #récupération des probabilités de victoires\n",
    "    y_pr =grid_clf.predict(data)\n",
    "    predict = pd.DataFrame(y_pr,index=data.index ,columns=[\"Prediction\"])\n",
    "    y_pred = grid_clf.predict_proba(data)\n",
    "    proba = pd.DataFrame(y_pred,index=data.index ,columns=[\"Proba_Challenger\",\"Proba_Favori\"])\n",
    "    \n",
    "    plot_confusion_matrix(grid_clf,\n",
    "                      X_test,\n",
    "                      y_test,\n",
    "                      values_format='d',\n",
    "                      display_labels=[\"Challenger\",\"Favori\"])\n",
    "    \n",
    "    predictions =grid_clf.predict(X_test)\n",
    "    print(classification_report(y_test,predictions))\n",
    "    #création du dataframe pari associé à l'algo\n",
    "    pari = df_pari\n",
    "    #ajout de la prédiction\n",
    "    pari = pari.join(predict)\n",
    "    #ajout des proba de prediction\n",
    "    pari = pari.join(proba)\n",
    "    #export du fichier pari pour éviter de relancer l'algo à chaque fois\n",
    "    pari.to_csv(\"pari\"+str(clf)+\".csv\")\n",
    "    \n"
   ]
  },
  {
   "cell_type": "markdown",
   "metadata": {},
   "source": [
    "<h3 style=\"text-decoration :underline;color:blue\">Définition de différents paramètres possibles pour chaque algo  </h3>"
   ]
  },
  {
   "cell_type": "markdown",
   "metadata": {},
   "source": [
    "<li>Régression logistique"
   ]
  },
  {
   "cell_type": "code",
   "execution_count": 75,
   "metadata": {},
   "outputs": [],
   "source": [
    "param_lr = {'solver':['liblinear','lbfgs'],'C':np.logspace(-4,2,9)}\n",
    "clf_lr = LogisticRegression(max_iter= 2000)"
   ]
  },
  {
   "cell_type": "markdown",
   "metadata": {},
   "source": [
    "<li>Random forest"
   ]
  },
  {
   "cell_type": "code",
   "execution_count": 76,
   "metadata": {},
   "outputs": [],
   "source": [
    "param_rf = [{'n_estimators':[10,50,100,250,500,1000],\n",
    "             'min_samples_leaf':[1,2,5],\n",
    "             'max_features':['sqrt','log2']}]\n",
    "clf_rf = RandomForestClassifier(n_jobs = -1)"
   ]
  },
  {
   "cell_type": "markdown",
   "metadata": {},
   "source": [
    "<li>Arbre de décision"
   ]
  },
  {
   "cell_type": "code",
   "execution_count": 77,
   "metadata": {},
   "outputs": [],
   "source": [
    "param_dtc = {'criterion':['gini','entropy'],'max_depth':[4,5,6,7,8,9,10,11,12,15,20,30,40,50,70,90,120,150]}\n",
    "clf_dtc = DecisionTreeClassifier()"
   ]
  },
  {
   "cell_type": "markdown",
   "metadata": {},
   "source": [
    "<li>K plus proches voisins"
   ]
  },
  {
   "cell_type": "code",
   "execution_count": 78,
   "metadata": {},
   "outputs": [],
   "source": [
    "param_knn = {'n_neighbors': [3,5,11,19],'weights':['uniform','distance'],'metric':['euclidean','manhattan','minkowski']}\n",
    "clf_knn = neighbors.KNeighborsClassifier()"
   ]
  },
  {
   "cell_type": "markdown",
   "metadata": {},
   "source": [
    "<h3 style=\"text-decoration :underline;color:blue\">Résultat avec les meilleurs hyperparamètres obtenus  </h3>"
   ]
  },
  {
   "cell_type": "markdown",
   "metadata": {},
   "source": [
    "<li>LogisticRegression"
   ]
  },
  {
   "cell_type": "code",
   "execution_count": 27,
   "metadata": {},
   "outputs": [
    {
     "name": "stdout",
     "output_type": "stream",
     "text": [
      "accuracy du modèle :  0.6763542331588652\n",
      "ecart type du modèle :  0.003684684609389298\n",
      "meilleur paramètre :  {'C': 0.5623413251903491, 'solver': 'liblinear'}\n",
      "score train :  67.8\n",
      "score test :  67.59\n",
      "              precision    recall  f1-score   support\n",
      "\n",
      "  challenger       0.53      0.20      0.29      1922\n",
      "      favori       0.70      0.91      0.79      3876\n",
      "\n",
      "    accuracy                           0.68      5798\n",
      "   macro avg       0.61      0.56      0.54      5798\n",
      "weighted avg       0.64      0.68      0.63      5798\n",
      "\n"
     ]
    },
    {
     "data": {
      "image/png": "[encoded data removed]",
      "text/plain": [
       "<Figure size 432x288 with 2 Axes>"
      ]
     },
     "metadata": {
      "needs_background": "light"
     },
     "output_type": "display_data"
    }
   ],
   "source": [
    "Grid(clf_lr,param_lr)"
   ]
  },
  {
   "cell_type": "markdown",
   "metadata": {},
   "source": [
    "<li>RandomForest"
   ]
  },
  {
   "cell_type": "code",
   "execution_count": 28,
   "metadata": {},
   "outputs": [
    {
     "name": "stdout",
     "output_type": "stream",
     "text": [
      "accuracy du modèle :  0.6748451106499902\n",
      "ecart type du modèle :  0.005626034931714589\n",
      "meilleur paramètre :  {'max_features': 'sqrt', 'min_samples_leaf': 5, 'n_estimators': 500}\n",
      "score train :  91.41\n",
      "score test :  67.07\n",
      "              precision    recall  f1-score   support\n",
      "\n",
      "  challenger       0.51      0.25      0.33      1922\n",
      "      favori       0.70      0.88      0.78      3876\n",
      "\n",
      "    accuracy                           0.67      5798\n",
      "   macro avg       0.60      0.56      0.56      5798\n",
      "weighted avg       0.64      0.67      0.63      5798\n",
      "\n"
     ]
    },
    {
     "data": {
      "image/png": "[encoded data removed]",
      "text/plain": [
       "<Figure size 432x288 with 2 Axes>"
      ]
     },
     "metadata": {
      "needs_background": "light"
     },
     "output_type": "display_data"
    }
   ],
   "source": [
    "Grid(clf_rf,param_rf)"
   ]
  },
  {
   "cell_type": "markdown",
   "metadata": {},
   "source": [
    "<li>Decision Tree"
   ]
  },
  {
   "cell_type": "code",
   "execution_count": 29,
   "metadata": {},
   "outputs": [
    {
     "name": "stdout",
     "output_type": "stream",
     "text": [
      "accuracy du modèle :  0.6776903841579366\n",
      "ecart type du modèle :  0.004879613774457636\n",
      "meilleur paramètre :  {'criterion': 'entropy', 'max_depth': 4}\n",
      "score train :  68.01\n",
      "score test :  67.73\n",
      "              precision    recall  f1-score   support\n",
      "\n",
      "  challenger       0.53      0.22      0.31      1922\n",
      "      favori       0.70      0.91      0.79      3876\n",
      "\n",
      "    accuracy                           0.68      5798\n",
      "   macro avg       0.62      0.56      0.55      5798\n",
      "weighted avg       0.64      0.68      0.63      5798\n",
      "\n"
     ]
    },
    {
     "data": {
      "image/png": "[encoded data removed]",
      "text/plain": [
       "<Figure size 432x288 with 2 Axes>"
      ]
     },
     "metadata": {
      "needs_background": "light"
     },
     "output_type": "display_data"
    }
   ],
   "source": [
    "Grid(clf_dtc,param_dtc)"
   ]
  },
  {
   "cell_type": "markdown",
   "metadata": {},
   "source": [
    "<li>Plus proche voisins"
   ]
  },
  {
   "cell_type": "code",
   "execution_count": 30,
   "metadata": {},
   "outputs": [
    {
     "name": "stdout",
     "output_type": "stream",
     "text": [
      "accuracy du modèle :  0.6645823636917482\n",
      "ecart type du modèle :  0.003423367287410201\n",
      "meilleur paramètre :  {'metric': 'euclidean', 'n_neighbors': 19, 'weights': 'uniform'}\n",
      "score train :  70.12\n",
      "score test :  66.13\n",
      "              precision    recall  f1-score   support\n",
      "\n",
      "  challenger       0.48      0.26      0.34      1922\n",
      "      favori       0.70      0.86      0.77      3876\n",
      "\n",
      "    accuracy                           0.66      5798\n",
      "   macro avg       0.59      0.56      0.55      5798\n",
      "weighted avg       0.63      0.66      0.63      5798\n",
      "\n"
     ]
    },
    {
     "data": {
      "image/png": "[encoded data removed]",
      "text/plain": [
       "<Figure size 432x288 with 2 Axes>"
      ]
     },
     "metadata": {
      "needs_background": "light"
     },
     "output_type": "display_data"
    }
   ],
   "source": [
    "Grid(clf_knn,param_knn) "
   ]
  },
  {
   "cell_type": "markdown",
   "metadata": {},
   "source": [
    "<hr>\n",
    "<h2 style=\"text-decoration :underline;color:green\">Première itération avec XGBoost </h2>"
   ]
  },
  {
   "cell_type": "code",
   "execution_count": 79,
   "metadata": {},
   "outputs": [
    {
     "name": "stdout",
     "output_type": "stream",
     "text": [
      "[0]\tvalidation_0-aucpr:0.78849\n",
      "[1]\tvalidation_0-aucpr:0.79225\n",
      "[2]\tvalidation_0-aucpr:0.79406\n",
      "[3]\tvalidation_0-aucpr:0.79646\n",
      "[4]\tvalidation_0-aucpr:0.79573\n",
      "[5]\tvalidation_0-aucpr:0.79607\n",
      "[6]\tvalidation_0-aucpr:0.79564\n",
      "[7]\tvalidation_0-aucpr:0.79518\n",
      "[8]\tvalidation_0-aucpr:0.79651\n",
      "[9]\tvalidation_0-aucpr:0.79569\n",
      "[10]\tvalidation_0-aucpr:0.79556\n",
      "[11]\tvalidation_0-aucpr:0.79424\n",
      "[12]\tvalidation_0-aucpr:0.79429\n",
      "[13]\tvalidation_0-aucpr:0.79426\n"
     ]
    },
    {
     "name": "stderr",
     "output_type": "stream",
     "text": [
      "C:\\Users\\Anthony\\anaconda3\\lib\\site-packages\\xgboost\\sklearn.py:892: UserWarning: The use of label encoder in XGBClassifier is deprecated and will be removed in a future release. To remove this warning, do the following: 1) Pass option use_label_encoder=False when constructing XGBClassifier object; and 2) Encode your labels (y) as integers starting with 0, i.e. 0, 1, 2, ..., [num_class - 1].\n",
      "  warnings.warn(label_encoder_deprecation_msg, UserWarning)\n"
     ]
    },
    {
     "name": "stdout",
     "output_type": "stream",
     "text": [
      "[14]\tvalidation_0-aucpr:0.79516\n",
      "[15]\tvalidation_0-aucpr:0.79526\n",
      "[16]\tvalidation_0-aucpr:0.79495\n",
      "[17]\tvalidation_0-aucpr:0.79475\n"
     ]
    },
    {
     "data": {
      "text/plain": [
       "XGBClassifier(base_score=0.5, booster='gbtree', colsample_bylevel=1,\n",
       "              colsample_bynode=1, colsample_bytree=1, gamma=0, gpu_id=-1,\n",
       "              importance_type='gain', interaction_constraints='',\n",
       "              learning_rate=0.300000012, max_delta_step=0, max_depth=6,\n",
       "              min_child_weight=1, missing=nan, monotone_constraints='()',\n",
       "              n_estimators=100, n_jobs=16, num_parallel_tree=1, random_state=0,\n",
       "              reg_alpha=0, reg_lambda=1, scale_pos_weight=1, subsample=1,\n",
       "              tree_method='exact', validate_parameters=1, verbosity=None)"
      ]
     },
     "execution_count": 79,
     "metadata": {},
     "output_type": "execute_result"
    }
   ],
   "source": [
    "clf_xgb = XGBClassifier(objective='binary:logistic')\n",
    "clf_xgb.fit(X_train,\n",
    "            y_train,\n",
    "            verbose=True,\n",
    "            early_stopping_rounds=10,\n",
    "            eval_metric='aucpr',\n",
    "            eval_set=[(X_test,y_test)])"
   ]
  },
  {
   "cell_type": "code",
   "execution_count": 80,
   "metadata": {},
   "outputs": [
    {
     "data": {
      "text/plain": [
       "<sklearn.metrics._plot.confusion_matrix.ConfusionMatrixDisplay at 0x155adaede20>"
      ]
     },
     "execution_count": 80,
     "metadata": {},
     "output_type": "execute_result"
    },
    {
     "data": {
      "image/png": "[encoded data removed]",
      "text/plain": [
       "<Figure size 432x288 with 2 Axes>"
      ]
     },
     "metadata": {
      "needs_background": "light"
     },
     "output_type": "display_data"
    }
   ],
   "source": [
    "plot_confusion_matrix(clf_xgb,\n",
    "                      X_test,\n",
    "                      y_test,\n",
    "                      values_format='d',\n",
    "                      display_labels=[\"Challenger\",\"Favori\"])"
   ]
  },
  {
   "cell_type": "code",
   "execution_count": 81,
   "metadata": {},
   "outputs": [],
   "source": [
    "predictions = clf_xgb.predict(X_test)"
   ]
  },
  {
   "cell_type": "code",
   "execution_count": 82,
   "metadata": {},
   "outputs": [
    {
     "name": "stdout",
     "output_type": "stream",
     "text": [
      "              precision    recall  f1-score   support\n",
      "\n",
      "  challenger       0.53      0.23      0.32      1922\n",
      "      favori       0.70      0.90      0.79      3876\n",
      "\n",
      "    accuracy                           0.68      5798\n",
      "   macro avg       0.61      0.56      0.55      5798\n",
      "weighted avg       0.64      0.68      0.63      5798\n",
      "\n"
     ]
    }
   ],
   "source": [
    "print(classification_report(y_test,predictions))"
   ]
  },
  {
   "cell_type": "markdown",
   "metadata": {},
   "source": [
    "<hr>\n",
    "<h2 style=\"text-decoration :underline;color:green\">Amélioration des résultats XGBoost avec la validation croisée </h2>"
   ]
  },
  {
   "cell_type": "code",
   "execution_count": 83,
   "metadata": {},
   "outputs": [],
   "source": [
    "# parametre pour XGBoost\n",
    "params = {\n",
    "        'min_child_weight': list(np.arange(1,10,1)),\n",
    "        'gamma': list(np.arange(0.5,5,0.5)),\n",
    "        'subsample': list(np.arange(0.5,1,0.1)),\n",
    "        'colsample_bytree': list(np.arange(0.5,1,0.1)),\n",
    "        'max_depth': list(np.arange(3,5,1))\n",
    "        }"
   ]
  },
  {
   "cell_type": "code",
   "execution_count": 84,
   "metadata": {},
   "outputs": [],
   "source": [
    "#création du classifieur\n",
    "xgb = XGBClassifier(learning_rate=0.02, n_estimators=600, objective='binary:logistic',\n",
    "                    silent=True, nthread=1)"
   ]
  },
  {
   "cell_type": "code",
   "execution_count": 85,
   "metadata": {},
   "outputs": [
    {
     "name": "stdout",
     "output_type": "stream",
     "text": [
      "Fitting 30 folds for each of 5 candidates, totalling 150 fits\n"
     ]
    },
    {
     "name": "stderr",
     "output_type": "stream",
     "text": [
      "[Parallel(n_jobs=4)]: Using backend LokyBackend with 4 concurrent workers.\n",
      "[Parallel(n_jobs=4)]: Done  24 tasks      | elapsed:  1.1min\n",
      "[Parallel(n_jobs=4)]: Done 120 tasks      | elapsed:  4.4min\n",
      "[Parallel(n_jobs=4)]: Done 150 out of 150 | elapsed:  5.9min finished\n",
      "C:\\Users\\Anthony\\anaconda3\\lib\\site-packages\\xgboost\\sklearn.py:892: UserWarning: The use of label encoder in XGBClassifier is deprecated and will be removed in a future release. To remove this warning, do the following: 1) Pass option use_label_encoder=False when constructing XGBClassifier object; and 2) Encode your labels (y) as integers starting with 0, i.e. 0, 1, 2, ..., [num_class - 1].\n",
      "  warnings.warn(label_encoder_deprecation_msg, UserWarning)\n"
     ]
    },
    {
     "name": "stdout",
     "output_type": "stream",
     "text": [
      "[16:57:03] WARNING: C:/Users/Administrator/workspace/xgboost-win64_release_1.3.0/src/learner.cc:541: \n",
      "Parameters: { silent } might not be used.\n",
      "\n",
      "  This may not be accurate due to some parameters are only used in language bindings but\n",
      "  passed down to XGBoost core.  Or some parameters are not used but slip through this\n",
      "  verification. Please open an issue if you find above cases.\n",
      "\n",
      "\n",
      "[16:57:03] WARNING: C:/Users/Administrator/workspace/xgboost-win64_release_1.3.0/src/learner.cc:1061: Starting in XGBoost 1.3.0, the default evaluation metric used with the objective 'binary:logistic' was changed from 'error' to 'logloss'. Explicitly set eval_metric if you'd like to restore the old behavior.\n"
     ]
    },
    {
     "data": {
      "text/plain": [
       "RandomizedSearchCV(cv=<generator object _BaseKFold.split at 0x00000155AD5C9EB0>,\n",
       "                   estimator=XGBClassifier(base_score=None, booster=None,\n",
       "                                           colsample_bylevel=None,\n",
       "                                           colsample_bynode=None,\n",
       "                                           colsample_bytree=None, gamma=None,\n",
       "                                           gpu_id=None, importance_type='gain',\n",
       "                                           interaction_constraints=None,\n",
       "                                           learning_rate=0.02,\n",
       "                                           max_delta_step=None, max_depth=None,\n",
       "                                           min_child_weight=None, mis...\n",
       "                                           validate_parameters=None,\n",
       "                                           verbosity=None),\n",
       "                   n_iter=5, n_jobs=4,\n",
       "                   param_distributions={'colsample_bytree': [0.5, 0.6, 0.7,\n",
       "                                                             0.7999999999999999,\n",
       "                                                             0.8999999999999999],\n",
       "                                        'gamma': [0.5, 1.0, 1.5, 2.0, 2.5, 3.0,\n",
       "                                                  3.5, 4.0, 4.5],\n",
       "                                        'max_depth': [3, 4],\n",
       "                                        'min_child_weight': [1, 2, 3, 4, 5, 6,\n",
       "                                                             7, 8, 9],\n",
       "                                        'subsample': [0.5, 0.6, 0.7,\n",
       "                                                      0.7999999999999999,\n",
       "                                                      0.8999999999999999]},\n",
       "                   random_state=1001, scoring='roc_auc', verbose=3)"
      ]
     },
     "execution_count": 85,
     "metadata": {},
     "output_type": "execute_result"
    }
   ],
   "source": [
    "#validation croisée + recherche des meilleurs hyperparametres avec randomized\n",
    "folds = 30\n",
    "param_comb = 5\n",
    "\n",
    "skf = StratifiedKFold(n_splits=folds, shuffle = True, random_state = 1001)\n",
    "\n",
    "random_search = RandomizedSearchCV(xgb, param_distributions=params, n_iter=param_comb, scoring='roc_auc', n_jobs=-1, cv=skf.split(X_train,y_train), verbose=3, random_state=1001 )\n",
    "\n",
    "random_search.fit(X_train, y_train)"
   ]
  },
  {
   "cell_type": "code",
   "execution_count": 86,
   "metadata": {},
   "outputs": [
    {
     "data": {
      "text/plain": [
       "0.6752171102298195"
      ]
     },
     "execution_count": 86,
     "metadata": {},
     "output_type": "execute_result"
    }
   ],
   "source": [
    "random_search.score(X_test,y_test)"
   ]
  },
  {
   "cell_type": "code",
   "execution_count": 87,
   "metadata": {},
   "outputs": [
    {
     "data": {
      "text/plain": [
       "<sklearn.metrics._plot.confusion_matrix.ConfusionMatrixDisplay at 0x155ad4ce700>"
      ]
     },
     "execution_count": 87,
     "metadata": {},
     "output_type": "execute_result"
    },
    {
     "data": {
      "image/png": "[encoded data removed]",
      "text/plain": [
       "<Figure size 432x288 with 2 Axes>"
      ]
     },
     "metadata": {
      "needs_background": "light"
     },
     "output_type": "display_data"
    }
   ],
   "source": [
    "plot_confusion_matrix(random_search,\n",
    "                      X_test,\n",
    "                      y_test,\n",
    "                      values_format='d',\n",
    "                      display_labels=[\"Challenger\",\"Favori\"])"
   ]
  },
  {
   "cell_type": "code",
   "execution_count": 88,
   "metadata": {},
   "outputs": [],
   "source": [
    "#récupération des probabilités de victoires\n",
    "y_pr = random_search.predict(data)\n",
    "predict =  pd.DataFrame(y_pr,index=data.index ,columns=[\"Prediction\"])\n",
    "y_pred = random_search.predict_proba(data)\n",
    "proba = pd.DataFrame(y_pred,index=data.index ,columns=[\"Proba_Challenger\",\"Proba_Favori\"])"
   ]
  },
  {
   "cell_type": "code",
   "execution_count": 89,
   "metadata": {},
   "outputs": [
    {
     "data": {
      "text/plain": [
       "<AxesSubplot:>"
      ]
     },
     "execution_count": 89,
     "metadata": {},
     "output_type": "execute_result"
    },
    {
     "data": {
      "image/png": "[encoded data removed]",
      "text/plain": [
       "<Figure size 432x288 with 1 Axes>"
      ]
     },
     "metadata": {
      "needs_background": "light"
     },
     "output_type": "display_data"
    }
   ],
   "source": [
    "feat= pd.Series(random_search.best_estimator_.feature_importances_,index=X_train.columns)\n",
    "feat.nlargest(20).plot(kind='barh')"
   ]
  },
  {
   "cell_type": "code",
   "execution_count": 90,
   "metadata": {},
   "outputs": [],
   "source": [
    "predictions=random_search.predict(X_test)"
   ]
  },
  {
   "cell_type": "code",
   "execution_count": 92,
   "metadata": {},
   "outputs": [
    {
     "name": "stdout",
     "output_type": "stream",
     "text": [
      "              precision    recall  f1-score   support\n",
      "\n",
      "  challenger       0.54      0.24      0.33      1922\n",
      "      favori       0.70      0.90      0.79      3876\n",
      "\n",
      "    accuracy                           0.68      5798\n",
      "   macro avg       0.62      0.57      0.56      5798\n",
      "weighted avg       0.65      0.68      0.64      5798\n",
      "\n"
     ]
    }
   ],
   "source": [
    "print(classification_report(y_test,predictions))"
   ]
  },
  {
   "cell_type": "markdown",
   "metadata": {},
   "source": [
    "<h3 style=\"text-decoration :underline;color:blue\">Sauvegarde du dataframe pari  </h3>"
   ]
  },
  {
   "cell_type": "code",
   "execution_count": 93,
   "metadata": {},
   "outputs": [],
   "source": [
    "#création du dataframe pari\n",
    "pari = df[[\"PS_C\",\"PS_F\",\"Vainqueur\"]]\n",
    "\n",
    "#ajout de la prédiction\n",
    "pari = pari.join(predict)\n",
    "\n",
    "#ajout des proba de prediction\n",
    "pari = pari.join(proba)\n",
    "\n",
    "#export du fichier pari pour éviter de relancer l'algo xgboost (qui est long) à chaque fois\n",
    "pari.to_csv(\"pariXGBoost.csv\")"
   ]
  },
  {
   "cell_type": "markdown",
   "metadata": {},
   "source": [
    "<hr>\n",
    "<h2 style=\"text-decoration :underline;color:green\">Création d'un dataframe pari pour étudier les écarts entre les probabilités algo et bookmaker </h2>"
   ]
  },
  {
   "cell_type": "markdown",
   "metadata": {},
   "source": [
    "<p style=\"color:blue\">D'après notre étude préliminiaire du dataset, nous avons remarqué que le bookmaker Pinnacle est beaucoup plus généreux que Bet365 avec un ROI de -2% pour Pinnacle contre -6.5% pour Bet365. On prendra uniquement les cotes de Pinnacle pour la suite de notre étude.</p>"
   ]
  },
  {
   "cell_type": "markdown",
   "metadata": {},
   "source": [
    "<h2> Choix de l'algo pour le ROI </h2>"
   ]
  },
  {
   "cell_type": "code",
   "execution_count": 94,
   "metadata": {},
   "outputs": [],
   "source": [
    "#lecture du fichier pari\n",
    "pari = pd.read_csv(\"pariXGBoost.csv\",index_col=0)\n",
    "#pari = pd.read_csv(\"pariLogisticRegression(max_iter=2000).csv\",index_col=0)\n",
    "#pari = pd.read_csv(\"pariDecisionTreeClassifier().csv\",index_col=0)\n",
    "#pari = pd.read_csv(\"pariRandomForestClassifier(n_jobs=-1).csv\",index_col=0)\n",
    "#pari = pd.read_csv(\"pariKNeighborsClassifier().csv\",index_col=0)\n"
   ]
  },
  {
   "cell_type": "code",
   "execution_count": 96,
   "metadata": {
    "collapsed": true,
    "jupyter": {
     "outputs_hidden": true
    }
   },
   "outputs": [
    {
     "name": "stderr",
     "output_type": "stream",
     "text": [
      "<ipython-input-96-06badfe1e5cb>:12: SettingWithCopyWarning: \n",
      "A value is trying to be set on a copy of a slice from a DataFrame\n",
      "\n",
      "See the caveats in the documentation: https://pandas.pydata.org/pandas-docs/stable/user_guide/indexing.html#returning-a-view-versus-a-copy\n",
      "  pari[\"gain_confiance\"][i]= pari[\"gain_theoriq_F\"][i]\n",
      "<ipython-input-96-06badfe1e5cb>:14: SettingWithCopyWarning: \n",
      "A value is trying to be set on a copy of a slice from a DataFrame\n",
      "\n",
      "See the caveats in the documentation: https://pandas.pydata.org/pandas-docs/stable/user_guide/indexing.html#returning-a-view-versus-a-copy\n",
      "  pari[\"gain_confiance\"][i]= pari[\"gain_theoriq_C\"][i]\n"
     ]
    }
   ],
   "source": [
    "#ajout de l'indice de confiance sur la cote\n",
    "pari[\"proba_PS_Challenger\"]=1/pari.PS_C\n",
    "pari[\"proba_PS_Favori\"]=1/pari.PS_F\n",
    "\n",
    "pari[\"gain_theoriq_F\"] = pari.Proba_Favori*pari.PS_F\n",
    "pari[\"gain_theoriq_C\"] =  pari.Proba_Challenger*pari.PS_C\n",
    "\n",
    "pari[\"gain_confiance\"]=\"wait\"\n",
    "\n",
    "for i in range(len(pari)):\n",
    "    if pari[\"Prediction\"][i]== \"favori\":\n",
    "        pari[\"gain_confiance\"][i]= pari[\"gain_theoriq_F\"][i]\n",
    "    else:\n",
    "        pari[\"gain_confiance\"][i]= pari[\"gain_theoriq_C\"][i]"
   ]
  },
  {
   "cell_type": "code",
   "execution_count": 97,
   "metadata": {
    "collapsed": true,
    "jupyter": {
     "outputs_hidden": true
    }
   },
   "outputs": [
    {
     "name": "stderr",
     "output_type": "stream",
     "text": [
      "<ipython-input-97-f8aa0124b89c>:7: SettingWithCopyWarning: \n",
      "A value is trying to be set on a copy of a slice from a DataFrame\n",
      "\n",
      "See the caveats in the documentation: https://pandas.pydata.org/pandas-docs/stable/user_guide/indexing.html#returning-a-view-versus-a-copy\n",
      "  pari[\"pari gagné\"][i]=0\n",
      "<ipython-input-97-f8aa0124b89c>:5: SettingWithCopyWarning: \n",
      "A value is trying to be set on a copy of a slice from a DataFrame\n",
      "\n",
      "See the caveats in the documentation: https://pandas.pydata.org/pandas-docs/stable/user_guide/indexing.html#returning-a-view-versus-a-copy\n",
      "  pari[\"pari gagné\"][i]=1\n",
      "<ipython-input-97-f8aa0124b89c>:13: SettingWithCopyWarning: \n",
      "A value is trying to be set on a copy of a slice from a DataFrame\n",
      "\n",
      "See the caveats in the documentation: https://pandas.pydata.org/pandas-docs/stable/user_guide/indexing.html#returning-a-view-versus-a-copy\n",
      "  pari.cote[i] = pari.PS_F[i]\n",
      "<ipython-input-97-f8aa0124b89c>:15: SettingWithCopyWarning: \n",
      "A value is trying to be set on a copy of a slice from a DataFrame\n",
      "\n",
      "See the caveats in the documentation: https://pandas.pydata.org/pandas-docs/stable/user_guide/indexing.html#returning-a-view-versus-a-copy\n",
      "  pari.cote[i] = pari.PS_C[i]\n"
     ]
    }
   ],
   "source": [
    "#détermination de victoire du pari\n",
    "pari[\"pari gagné\"]=2\n",
    "for i in range(len(pari)):\n",
    "    if pari.Vainqueur[i] == pari.Prediction[i]:\n",
    "        pari[\"pari gagné\"][i]=1\n",
    "    else:\n",
    "        pari[\"pari gagné\"][i]=0\n",
    "\n",
    "#choix de la cote en fonction de la prediction\n",
    "pari[\"cote\"]=1.1\n",
    "for i in range(len(pari)): \n",
    "    if pari.Prediction[i]==\"favori\":\n",
    "        pari.cote[i] = pari.PS_F[i]\n",
    "    else:\n",
    "        pari.cote[i] = pari.PS_C[i]\n",
    "\n",
    "#rangement en fonction de l'indice de confiance        \n",
    "pari.sort_values(by = 'gain_confiance', ascending = False, inplace = True)"
   ]
  },
  {
   "cell_type": "markdown",
   "metadata": {},
   "source": [
    "<hr>\n",
    "<h2 style=\"text-decoration :underline;color:green\">Calcul du gain et du ROI en fonction du nombre de match </h2>"
   ]
  },
  {
   "cell_type": "code",
   "execution_count": 98,
   "metadata": {
    "scrolled": true
   },
   "outputs": [],
   "source": [
    "#création d'un dataframe test pour pouvoir tester plusieurs parametres essentiellement les cotes ici par exemple\n",
    "test = pari\n",
    "#test= test[test.Prediction == test.choix]\n",
    "#on les range par indice décroissant\n",
    "test.sort_values(by = 'gain_confiance', ascending = False, inplace = True)\n",
    "\n",
    "test = test.reset_index().drop(\"index\",axis=1)"
   ]
  },
  {
   "cell_type": "code",
   "execution_count": 99,
   "metadata": {},
   "outputs": [],
   "source": [
    "test.to_csv(\"test.csv\")"
   ]
  },
  {
   "cell_type": "code",
   "execution_count": 100,
   "metadata": {},
   "outputs": [
    {
     "data": {
      "text/html": [
       "<div>\n",
       "<style scoped>\n",
       "    .dataframe tbody tr th:only-of-type {\n",
       "        vertical-align: middle;\n",
       "    }\n",
       "\n",
       "    .dataframe tbody tr th {\n",
       "        vertical-align: top;\n",
       "    }\n",
       "\n",
       "    .dataframe thead th {\n",
       "        text-align: right;\n",
       "    }\n",
       "</style>\n",
       "<table border=\"1\" class=\"dataframe\">\n",
       "  <thead>\n",
       "    <tr style=\"text-align: right;\">\n",
       "      <th></th>\n",
       "      <th>PS_C</th>\n",
       "      <th>PS_F</th>\n",
       "      <th>Vainqueur</th>\n",
       "      <th>Prediction</th>\n",
       "      <th>Proba_Challenger</th>\n",
       "      <th>Proba_Favori</th>\n",
       "      <th>proba_PS_Challenger</th>\n",
       "      <th>proba_PS_Favori</th>\n",
       "      <th>gain_theoriq_F</th>\n",
       "      <th>gain_theoriq_C</th>\n",
       "      <th>gain_confiance</th>\n",
       "      <th>pari gagné</th>\n",
       "      <th>cote</th>\n",
       "    </tr>\n",
       "  </thead>\n",
       "  <tbody>\n",
       "    <tr>\n",
       "      <th>0</th>\n",
       "      <td>1.090</td>\n",
       "      <td>9.550</td>\n",
       "      <td>challenger</td>\n",
       "      <td>favori</td>\n",
       "      <td>0.440924</td>\n",
       "      <td>0.559076</td>\n",
       "      <td>0.917431</td>\n",
       "      <td>0.104712</td>\n",
       "      <td>5.339172</td>\n",
       "      <td>0.480608</td>\n",
       "      <td>5.33917</td>\n",
       "      <td>0</td>\n",
       "      <td>9.55</td>\n",
       "    </tr>\n",
       "    <tr>\n",
       "      <th>1</th>\n",
       "      <td>1.126</td>\n",
       "      <td>8.150</td>\n",
       "      <td>challenger</td>\n",
       "      <td>favori</td>\n",
       "      <td>0.456733</td>\n",
       "      <td>0.543267</td>\n",
       "      <td>0.888099</td>\n",
       "      <td>0.122699</td>\n",
       "      <td>4.427625</td>\n",
       "      <td>0.514281</td>\n",
       "      <td>4.42763</td>\n",
       "      <td>0</td>\n",
       "      <td>8.15</td>\n",
       "    </tr>\n",
       "    <tr>\n",
       "      <th>2</th>\n",
       "      <td>8.080</td>\n",
       "      <td>1.120</td>\n",
       "      <td>favori</td>\n",
       "      <td>challenger</td>\n",
       "      <td>0.537526</td>\n",
       "      <td>0.462474</td>\n",
       "      <td>0.123762</td>\n",
       "      <td>0.892857</td>\n",
       "      <td>0.517971</td>\n",
       "      <td>4.343209</td>\n",
       "      <td>4.34321</td>\n",
       "      <td>0</td>\n",
       "      <td>8.08</td>\n",
       "    </tr>\n",
       "    <tr>\n",
       "      <th>3</th>\n",
       "      <td>1.232</td>\n",
       "      <td>4.910</td>\n",
       "      <td>challenger</td>\n",
       "      <td>favori</td>\n",
       "      <td>0.144678</td>\n",
       "      <td>0.855322</td>\n",
       "      <td>0.811688</td>\n",
       "      <td>0.203666</td>\n",
       "      <td>4.199632</td>\n",
       "      <td>0.178243</td>\n",
       "      <td>4.19963</td>\n",
       "      <td>0</td>\n",
       "      <td>4.91</td>\n",
       "    </tr>\n",
       "    <tr>\n",
       "      <th>4</th>\n",
       "      <td>1.156</td>\n",
       "      <td>6.800</td>\n",
       "      <td>challenger</td>\n",
       "      <td>favori</td>\n",
       "      <td>0.399994</td>\n",
       "      <td>0.600006</td>\n",
       "      <td>0.865052</td>\n",
       "      <td>0.147059</td>\n",
       "      <td>4.080043</td>\n",
       "      <td>0.462393</td>\n",
       "      <td>4.08004</td>\n",
       "      <td>0</td>\n",
       "      <td>6.80</td>\n",
       "    </tr>\n",
       "    <tr>\n",
       "      <th>5</th>\n",
       "      <td>1.232</td>\n",
       "      <td>4.910</td>\n",
       "      <td>challenger</td>\n",
       "      <td>favori</td>\n",
       "      <td>0.187375</td>\n",
       "      <td>0.812625</td>\n",
       "      <td>0.811688</td>\n",
       "      <td>0.203666</td>\n",
       "      <td>3.989991</td>\n",
       "      <td>0.230845</td>\n",
       "      <td>3.98999</td>\n",
       "      <td>0</td>\n",
       "      <td>4.91</td>\n",
       "    </tr>\n",
       "    <tr>\n",
       "      <th>6</th>\n",
       "      <td>1.171</td>\n",
       "      <td>6.350</td>\n",
       "      <td>challenger</td>\n",
       "      <td>favori</td>\n",
       "      <td>0.378506</td>\n",
       "      <td>0.621494</td>\n",
       "      <td>0.853971</td>\n",
       "      <td>0.157480</td>\n",
       "      <td>3.946485</td>\n",
       "      <td>0.443231</td>\n",
       "      <td>3.94649</td>\n",
       "      <td>0</td>\n",
       "      <td>6.35</td>\n",
       "    </tr>\n",
       "    <tr>\n",
       "      <th>7</th>\n",
       "      <td>1.160</td>\n",
       "      <td>6.700</td>\n",
       "      <td>challenger</td>\n",
       "      <td>favori</td>\n",
       "      <td>0.457078</td>\n",
       "      <td>0.542922</td>\n",
       "      <td>0.862069</td>\n",
       "      <td>0.149254</td>\n",
       "      <td>3.637580</td>\n",
       "      <td>0.530210</td>\n",
       "      <td>3.63758</td>\n",
       "      <td>0</td>\n",
       "      <td>6.70</td>\n",
       "    </tr>\n",
       "    <tr>\n",
       "      <th>8</th>\n",
       "      <td>1.162</td>\n",
       "      <td>6.590</td>\n",
       "      <td>challenger</td>\n",
       "      <td>favori</td>\n",
       "      <td>0.451052</td>\n",
       "      <td>0.548948</td>\n",
       "      <td>0.860585</td>\n",
       "      <td>0.151745</td>\n",
       "      <td>3.617569</td>\n",
       "      <td>0.524122</td>\n",
       "      <td>3.61757</td>\n",
       "      <td>0</td>\n",
       "      <td>6.59</td>\n",
       "    </tr>\n",
       "    <tr>\n",
       "      <th>9</th>\n",
       "      <td>1.150</td>\n",
       "      <td>6.160</td>\n",
       "      <td>challenger</td>\n",
       "      <td>favori</td>\n",
       "      <td>0.414248</td>\n",
       "      <td>0.585752</td>\n",
       "      <td>0.869565</td>\n",
       "      <td>0.162338</td>\n",
       "      <td>3.608233</td>\n",
       "      <td>0.476385</td>\n",
       "      <td>3.60823</td>\n",
       "      <td>0</td>\n",
       "      <td>6.16</td>\n",
       "    </tr>\n",
       "    <tr>\n",
       "      <th>10</th>\n",
       "      <td>6.100</td>\n",
       "      <td>1.154</td>\n",
       "      <td>challenger</td>\n",
       "      <td>challenger</td>\n",
       "      <td>0.584105</td>\n",
       "      <td>0.415895</td>\n",
       "      <td>0.163934</td>\n",
       "      <td>0.866551</td>\n",
       "      <td>0.479943</td>\n",
       "      <td>3.563040</td>\n",
       "      <td>3.56304</td>\n",
       "      <td>1</td>\n",
       "      <td>6.10</td>\n",
       "    </tr>\n",
       "    <tr>\n",
       "      <th>11</th>\n",
       "      <td>1.167</td>\n",
       "      <td>6.400</td>\n",
       "      <td>favori</td>\n",
       "      <td>favori</td>\n",
       "      <td>0.444438</td>\n",
       "      <td>0.555562</td>\n",
       "      <td>0.856898</td>\n",
       "      <td>0.156250</td>\n",
       "      <td>3.555597</td>\n",
       "      <td>0.518659</td>\n",
       "      <td>3.5556</td>\n",
       "      <td>1</td>\n",
       "      <td>6.40</td>\n",
       "    </tr>\n",
       "    <tr>\n",
       "      <th>12</th>\n",
       "      <td>1.140</td>\n",
       "      <td>6.870</td>\n",
       "      <td>challenger</td>\n",
       "      <td>favori</td>\n",
       "      <td>0.496228</td>\n",
       "      <td>0.503772</td>\n",
       "      <td>0.877193</td>\n",
       "      <td>0.145560</td>\n",
       "      <td>3.460915</td>\n",
       "      <td>0.565700</td>\n",
       "      <td>3.46092</td>\n",
       "      <td>0</td>\n",
       "      <td>6.87</td>\n",
       "    </tr>\n",
       "    <tr>\n",
       "      <th>13</th>\n",
       "      <td>1.267</td>\n",
       "      <td>4.450</td>\n",
       "      <td>favori</td>\n",
       "      <td>favori</td>\n",
       "      <td>0.290255</td>\n",
       "      <td>0.709745</td>\n",
       "      <td>0.789266</td>\n",
       "      <td>0.224719</td>\n",
       "      <td>3.158365</td>\n",
       "      <td>0.367753</td>\n",
       "      <td>3.15837</td>\n",
       "      <td>1</td>\n",
       "      <td>4.45</td>\n",
       "    </tr>\n",
       "    <tr>\n",
       "      <th>14</th>\n",
       "      <td>1.213</td>\n",
       "      <td>5.300</td>\n",
       "      <td>challenger</td>\n",
       "      <td>favori</td>\n",
       "      <td>0.409006</td>\n",
       "      <td>0.590994</td>\n",
       "      <td>0.824402</td>\n",
       "      <td>0.188679</td>\n",
       "      <td>3.132267</td>\n",
       "      <td>0.496125</td>\n",
       "      <td>3.13227</td>\n",
       "      <td>0</td>\n",
       "      <td>5.30</td>\n",
       "    </tr>\n",
       "    <tr>\n",
       "      <th>15</th>\n",
       "      <td>1.269</td>\n",
       "      <td>4.420</td>\n",
       "      <td>challenger</td>\n",
       "      <td>favori</td>\n",
       "      <td>0.291872</td>\n",
       "      <td>0.708128</td>\n",
       "      <td>0.788022</td>\n",
       "      <td>0.226244</td>\n",
       "      <td>3.129927</td>\n",
       "      <td>0.370385</td>\n",
       "      <td>3.12993</td>\n",
       "      <td>0</td>\n",
       "      <td>4.42</td>\n",
       "    </tr>\n",
       "    <tr>\n",
       "      <th>16</th>\n",
       "      <td>1.241</td>\n",
       "      <td>4.750</td>\n",
       "      <td>favori</td>\n",
       "      <td>favori</td>\n",
       "      <td>0.346546</td>\n",
       "      <td>0.653454</td>\n",
       "      <td>0.805802</td>\n",
       "      <td>0.210526</td>\n",
       "      <td>3.103905</td>\n",
       "      <td>0.430064</td>\n",
       "      <td>3.10391</td>\n",
       "      <td>1</td>\n",
       "      <td>4.75</td>\n",
       "    </tr>\n",
       "    <tr>\n",
       "      <th>17</th>\n",
       "      <td>1.187</td>\n",
       "      <td>5.250</td>\n",
       "      <td>challenger</td>\n",
       "      <td>favori</td>\n",
       "      <td>0.418482</td>\n",
       "      <td>0.581518</td>\n",
       "      <td>0.842460</td>\n",
       "      <td>0.190476</td>\n",
       "      <td>3.052968</td>\n",
       "      <td>0.496738</td>\n",
       "      <td>3.05297</td>\n",
       "      <td>0</td>\n",
       "      <td>5.25</td>\n",
       "    </tr>\n",
       "    <tr>\n",
       "      <th>18</th>\n",
       "      <td>5.550</td>\n",
       "      <td>1.180</td>\n",
       "      <td>favori</td>\n",
       "      <td>challenger</td>\n",
       "      <td>0.546180</td>\n",
       "      <td>0.453820</td>\n",
       "      <td>0.180180</td>\n",
       "      <td>0.847458</td>\n",
       "      <td>0.535508</td>\n",
       "      <td>3.031298</td>\n",
       "      <td>3.0313</td>\n",
       "      <td>0</td>\n",
       "      <td>5.55</td>\n",
       "    </tr>\n",
       "    <tr>\n",
       "      <th>19</th>\n",
       "      <td>1.185</td>\n",
       "      <td>5.900</td>\n",
       "      <td>favori</td>\n",
       "      <td>favori</td>\n",
       "      <td>0.497718</td>\n",
       "      <td>0.502282</td>\n",
       "      <td>0.843882</td>\n",
       "      <td>0.169492</td>\n",
       "      <td>2.963466</td>\n",
       "      <td>0.589795</td>\n",
       "      <td>2.96347</td>\n",
       "      <td>1</td>\n",
       "      <td>5.90</td>\n",
       "    </tr>\n",
       "    <tr>\n",
       "      <th>20</th>\n",
       "      <td>1.250</td>\n",
       "      <td>4.650</td>\n",
       "      <td>challenger</td>\n",
       "      <td>favori</td>\n",
       "      <td>0.376156</td>\n",
       "      <td>0.623844</td>\n",
       "      <td>0.800000</td>\n",
       "      <td>0.215054</td>\n",
       "      <td>2.900873</td>\n",
       "      <td>0.470196</td>\n",
       "      <td>2.90087</td>\n",
       "      <td>0</td>\n",
       "      <td>4.65</td>\n",
       "    </tr>\n",
       "    <tr>\n",
       "      <th>21</th>\n",
       "      <td>5.000</td>\n",
       "      <td>1.227</td>\n",
       "      <td>favori</td>\n",
       "      <td>challenger</td>\n",
       "      <td>0.579410</td>\n",
       "      <td>0.420590</td>\n",
       "      <td>0.200000</td>\n",
       "      <td>0.814996</td>\n",
       "      <td>0.516064</td>\n",
       "      <td>2.897050</td>\n",
       "      <td>2.89705</td>\n",
       "      <td>0</td>\n",
       "      <td>5.00</td>\n",
       "    </tr>\n",
       "    <tr>\n",
       "      <th>22</th>\n",
       "      <td>1.198</td>\n",
       "      <td>5.540</td>\n",
       "      <td>challenger</td>\n",
       "      <td>favori</td>\n",
       "      <td>0.486651</td>\n",
       "      <td>0.513349</td>\n",
       "      <td>0.834725</td>\n",
       "      <td>0.180505</td>\n",
       "      <td>2.843955</td>\n",
       "      <td>0.583008</td>\n",
       "      <td>2.84395</td>\n",
       "      <td>0</td>\n",
       "      <td>5.54</td>\n",
       "    </tr>\n",
       "    <tr>\n",
       "      <th>23</th>\n",
       "      <td>1.180</td>\n",
       "      <td>5.630</td>\n",
       "      <td>challenger</td>\n",
       "      <td>favori</td>\n",
       "      <td>0.497119</td>\n",
       "      <td>0.502881</td>\n",
       "      <td>0.847458</td>\n",
       "      <td>0.177620</td>\n",
       "      <td>2.831222</td>\n",
       "      <td>0.586600</td>\n",
       "      <td>2.83122</td>\n",
       "      <td>0</td>\n",
       "      <td>5.63</td>\n",
       "    </tr>\n",
       "    <tr>\n",
       "      <th>24</th>\n",
       "      <td>1.250</td>\n",
       "      <td>4.460</td>\n",
       "      <td>challenger</td>\n",
       "      <td>favori</td>\n",
       "      <td>0.376172</td>\n",
       "      <td>0.623827</td>\n",
       "      <td>0.800000</td>\n",
       "      <td>0.224215</td>\n",
       "      <td>2.782271</td>\n",
       "      <td>0.470216</td>\n",
       "      <td>2.78227</td>\n",
       "      <td>0</td>\n",
       "      <td>4.46</td>\n",
       "    </tr>\n",
       "    <tr>\n",
       "      <th>25</th>\n",
       "      <td>1.240</td>\n",
       "      <td>4.650</td>\n",
       "      <td>challenger</td>\n",
       "      <td>favori</td>\n",
       "      <td>0.402384</td>\n",
       "      <td>0.597616</td>\n",
       "      <td>0.806452</td>\n",
       "      <td>0.215054</td>\n",
       "      <td>2.778914</td>\n",
       "      <td>0.498956</td>\n",
       "      <td>2.77891</td>\n",
       "      <td>0</td>\n",
       "      <td>4.65</td>\n",
       "    </tr>\n",
       "    <tr>\n",
       "      <th>26</th>\n",
       "      <td>1.201</td>\n",
       "      <td>5.470</td>\n",
       "      <td>favori</td>\n",
       "      <td>favori</td>\n",
       "      <td>0.496662</td>\n",
       "      <td>0.503338</td>\n",
       "      <td>0.832639</td>\n",
       "      <td>0.182815</td>\n",
       "      <td>2.753257</td>\n",
       "      <td>0.596491</td>\n",
       "      <td>2.75326</td>\n",
       "      <td>1</td>\n",
       "      <td>5.47</td>\n",
       "    </tr>\n",
       "    <tr>\n",
       "      <th>27</th>\n",
       "      <td>4.850</td>\n",
       "      <td>1.220</td>\n",
       "      <td>challenger</td>\n",
       "      <td>challenger</td>\n",
       "      <td>0.565347</td>\n",
       "      <td>0.434653</td>\n",
       "      <td>0.206186</td>\n",
       "      <td>0.819672</td>\n",
       "      <td>0.530277</td>\n",
       "      <td>2.741931</td>\n",
       "      <td>2.74193</td>\n",
       "      <td>1</td>\n",
       "      <td>4.85</td>\n",
       "    </tr>\n",
       "    <tr>\n",
       "      <th>28</th>\n",
       "      <td>1.357</td>\n",
       "      <td>3.400</td>\n",
       "      <td>challenger</td>\n",
       "      <td>favori</td>\n",
       "      <td>0.194974</td>\n",
       "      <td>0.805026</td>\n",
       "      <td>0.736920</td>\n",
       "      <td>0.294118</td>\n",
       "      <td>2.737089</td>\n",
       "      <td>0.264580</td>\n",
       "      <td>2.73709</td>\n",
       "      <td>0</td>\n",
       "      <td>3.40</td>\n",
       "    </tr>\n",
       "    <tr>\n",
       "      <th>29</th>\n",
       "      <td>1.200</td>\n",
       "      <td>5.290</td>\n",
       "      <td>challenger</td>\n",
       "      <td>favori</td>\n",
       "      <td>0.483308</td>\n",
       "      <td>0.516692</td>\n",
       "      <td>0.833333</td>\n",
       "      <td>0.189036</td>\n",
       "      <td>2.733301</td>\n",
       "      <td>0.579970</td>\n",
       "      <td>2.7333</td>\n",
       "      <td>0</td>\n",
       "      <td>5.29</td>\n",
       "    </tr>\n",
       "    <tr>\n",
       "      <th>30</th>\n",
       "      <td>1.200</td>\n",
       "      <td>5.240</td>\n",
       "      <td>challenger</td>\n",
       "      <td>favori</td>\n",
       "      <td>0.489683</td>\n",
       "      <td>0.510317</td>\n",
       "      <td>0.833333</td>\n",
       "      <td>0.190840</td>\n",
       "      <td>2.674059</td>\n",
       "      <td>0.587620</td>\n",
       "      <td>2.67406</td>\n",
       "      <td>0</td>\n",
       "      <td>5.24</td>\n",
       "    </tr>\n",
       "    <tr>\n",
       "      <th>31</th>\n",
       "      <td>5.120</td>\n",
       "      <td>1.210</td>\n",
       "      <td>favori</td>\n",
       "      <td>challenger</td>\n",
       "      <td>0.510283</td>\n",
       "      <td>0.489717</td>\n",
       "      <td>0.195312</td>\n",
       "      <td>0.826446</td>\n",
       "      <td>0.592558</td>\n",
       "      <td>2.612648</td>\n",
       "      <td>2.61265</td>\n",
       "      <td>0</td>\n",
       "      <td>5.12</td>\n",
       "    </tr>\n",
       "    <tr>\n",
       "      <th>32</th>\n",
       "      <td>1.230</td>\n",
       "      <td>4.770</td>\n",
       "      <td>challenger</td>\n",
       "      <td>favori</td>\n",
       "      <td>0.453377</td>\n",
       "      <td>0.546623</td>\n",
       "      <td>0.813008</td>\n",
       "      <td>0.209644</td>\n",
       "      <td>2.607391</td>\n",
       "      <td>0.557654</td>\n",
       "      <td>2.60739</td>\n",
       "      <td>0</td>\n",
       "      <td>4.77</td>\n",
       "    </tr>\n",
       "    <tr>\n",
       "      <th>33</th>\n",
       "      <td>1.248</td>\n",
       "      <td>4.640</td>\n",
       "      <td>challenger</td>\n",
       "      <td>favori</td>\n",
       "      <td>0.440805</td>\n",
       "      <td>0.559195</td>\n",
       "      <td>0.801282</td>\n",
       "      <td>0.215517</td>\n",
       "      <td>2.594665</td>\n",
       "      <td>0.550125</td>\n",
       "      <td>2.59467</td>\n",
       "      <td>0</td>\n",
       "      <td>4.64</td>\n",
       "    </tr>\n",
       "    <tr>\n",
       "      <th>34</th>\n",
       "      <td>1.222</td>\n",
       "      <td>5.100</td>\n",
       "      <td>favori</td>\n",
       "      <td>favori</td>\n",
       "      <td>0.492422</td>\n",
       "      <td>0.507578</td>\n",
       "      <td>0.818331</td>\n",
       "      <td>0.196078</td>\n",
       "      <td>2.588648</td>\n",
       "      <td>0.601740</td>\n",
       "      <td>2.58865</td>\n",
       "      <td>1</td>\n",
       "      <td>5.10</td>\n",
       "    </tr>\n",
       "    <tr>\n",
       "      <th>35</th>\n",
       "      <td>4.740</td>\n",
       "      <td>1.220</td>\n",
       "      <td>favori</td>\n",
       "      <td>challenger</td>\n",
       "      <td>0.545847</td>\n",
       "      <td>0.454153</td>\n",
       "      <td>0.210970</td>\n",
       "      <td>0.819672</td>\n",
       "      <td>0.554066</td>\n",
       "      <td>2.587317</td>\n",
       "      <td>2.58732</td>\n",
       "      <td>0</td>\n",
       "      <td>4.74</td>\n",
       "    </tr>\n",
       "    <tr>\n",
       "      <th>36</th>\n",
       "      <td>1.260</td>\n",
       "      <td>4.220</td>\n",
       "      <td>challenger</td>\n",
       "      <td>favori</td>\n",
       "      <td>0.389179</td>\n",
       "      <td>0.610821</td>\n",
       "      <td>0.793651</td>\n",
       "      <td>0.236967</td>\n",
       "      <td>2.577664</td>\n",
       "      <td>0.490366</td>\n",
       "      <td>2.57766</td>\n",
       "      <td>0</td>\n",
       "      <td>4.22</td>\n",
       "    </tr>\n",
       "    <tr>\n",
       "      <th>37</th>\n",
       "      <td>4.550</td>\n",
       "      <td>1.260</td>\n",
       "      <td>favori</td>\n",
       "      <td>challenger</td>\n",
       "      <td>0.563957</td>\n",
       "      <td>0.436043</td>\n",
       "      <td>0.219780</td>\n",
       "      <td>0.793651</td>\n",
       "      <td>0.549414</td>\n",
       "      <td>2.566005</td>\n",
       "      <td>2.56601</td>\n",
       "      <td>0</td>\n",
       "      <td>4.55</td>\n",
       "    </tr>\n",
       "    <tr>\n",
       "      <th>38</th>\n",
       "      <td>4.730</td>\n",
       "      <td>1.240</td>\n",
       "      <td>challenger</td>\n",
       "      <td>challenger</td>\n",
       "      <td>0.533821</td>\n",
       "      <td>0.466179</td>\n",
       "      <td>0.211416</td>\n",
       "      <td>0.806452</td>\n",
       "      <td>0.578062</td>\n",
       "      <td>2.524974</td>\n",
       "      <td>2.52497</td>\n",
       "      <td>1</td>\n",
       "      <td>4.73</td>\n",
       "    </tr>\n",
       "    <tr>\n",
       "      <th>39</th>\n",
       "      <td>1.280</td>\n",
       "      <td>4.060</td>\n",
       "      <td>challenger</td>\n",
       "      <td>favori</td>\n",
       "      <td>0.379299</td>\n",
       "      <td>0.620701</td>\n",
       "      <td>0.781250</td>\n",
       "      <td>0.246305</td>\n",
       "      <td>2.520048</td>\n",
       "      <td>0.485502</td>\n",
       "      <td>2.52005</td>\n",
       "      <td>0</td>\n",
       "      <td>4.06</td>\n",
       "    </tr>\n",
       "    <tr>\n",
       "      <th>40</th>\n",
       "      <td>1.240</td>\n",
       "      <td>4.640</td>\n",
       "      <td>favori</td>\n",
       "      <td>favori</td>\n",
       "      <td>0.458019</td>\n",
       "      <td>0.541981</td>\n",
       "      <td>0.806452</td>\n",
       "      <td>0.215517</td>\n",
       "      <td>2.514790</td>\n",
       "      <td>0.567944</td>\n",
       "      <td>2.51479</td>\n",
       "      <td>1</td>\n",
       "      <td>4.64</td>\n",
       "    </tr>\n",
       "    <tr>\n",
       "      <th>41</th>\n",
       "      <td>1.310</td>\n",
       "      <td>3.860</td>\n",
       "      <td>challenger</td>\n",
       "      <td>favori</td>\n",
       "      <td>0.349516</td>\n",
       "      <td>0.650485</td>\n",
       "      <td>0.763359</td>\n",
       "      <td>0.259067</td>\n",
       "      <td>2.510870</td>\n",
       "      <td>0.457865</td>\n",
       "      <td>2.51087</td>\n",
       "      <td>0</td>\n",
       "      <td>3.86</td>\n",
       "    </tr>\n",
       "    <tr>\n",
       "      <th>42</th>\n",
       "      <td>4.830</td>\n",
       "      <td>1.220</td>\n",
       "      <td>challenger</td>\n",
       "      <td>challenger</td>\n",
       "      <td>0.513427</td>\n",
       "      <td>0.486573</td>\n",
       "      <td>0.207039</td>\n",
       "      <td>0.819672</td>\n",
       "      <td>0.593618</td>\n",
       "      <td>2.479855</td>\n",
       "      <td>2.47985</td>\n",
       "      <td>1</td>\n",
       "      <td>4.83</td>\n",
       "    </tr>\n",
       "    <tr>\n",
       "      <th>43</th>\n",
       "      <td>1.291</td>\n",
       "      <td>4.140</td>\n",
       "      <td>challenger</td>\n",
       "      <td>favori</td>\n",
       "      <td>0.401391</td>\n",
       "      <td>0.598609</td>\n",
       "      <td>0.774593</td>\n",
       "      <td>0.241546</td>\n",
       "      <td>2.478241</td>\n",
       "      <td>0.518196</td>\n",
       "      <td>2.47824</td>\n",
       "      <td>0</td>\n",
       "      <td>4.14</td>\n",
       "    </tr>\n",
       "    <tr>\n",
       "      <th>44</th>\n",
       "      <td>1.308</td>\n",
       "      <td>3.950</td>\n",
       "      <td>challenger</td>\n",
       "      <td>favori</td>\n",
       "      <td>0.380269</td>\n",
       "      <td>0.619731</td>\n",
       "      <td>0.764526</td>\n",
       "      <td>0.253165</td>\n",
       "      <td>2.447936</td>\n",
       "      <td>0.497392</td>\n",
       "      <td>2.44794</td>\n",
       "      <td>0</td>\n",
       "      <td>3.95</td>\n",
       "    </tr>\n",
       "    <tr>\n",
       "      <th>45</th>\n",
       "      <td>1.290</td>\n",
       "      <td>4.050</td>\n",
       "      <td>challenger</td>\n",
       "      <td>favori</td>\n",
       "      <td>0.396523</td>\n",
       "      <td>0.603477</td>\n",
       "      <td>0.775194</td>\n",
       "      <td>0.246914</td>\n",
       "      <td>2.444083</td>\n",
       "      <td>0.511514</td>\n",
       "      <td>2.44408</td>\n",
       "      <td>0</td>\n",
       "      <td>4.05</td>\n",
       "    </tr>\n",
       "    <tr>\n",
       "      <th>46</th>\n",
       "      <td>1.300</td>\n",
       "      <td>3.900</td>\n",
       "      <td>favori</td>\n",
       "      <td>favori</td>\n",
       "      <td>0.376470</td>\n",
       "      <td>0.623530</td>\n",
       "      <td>0.769231</td>\n",
       "      <td>0.256410</td>\n",
       "      <td>2.431768</td>\n",
       "      <td>0.489411</td>\n",
       "      <td>2.43177</td>\n",
       "      <td>1</td>\n",
       "      <td>3.90</td>\n",
       "    </tr>\n",
       "    <tr>\n",
       "      <th>47</th>\n",
       "      <td>1.213</td>\n",
       "      <td>4.800</td>\n",
       "      <td>challenger</td>\n",
       "      <td>favori</td>\n",
       "      <td>0.494127</td>\n",
       "      <td>0.505873</td>\n",
       "      <td>0.824402</td>\n",
       "      <td>0.208333</td>\n",
       "      <td>2.428190</td>\n",
       "      <td>0.599376</td>\n",
       "      <td>2.42819</td>\n",
       "      <td>0</td>\n",
       "      <td>4.80</td>\n",
       "    </tr>\n",
       "    <tr>\n",
       "      <th>48</th>\n",
       "      <td>1.376</td>\n",
       "      <td>3.460</td>\n",
       "      <td>challenger</td>\n",
       "      <td>favori</td>\n",
       "      <td>0.300039</td>\n",
       "      <td>0.699961</td>\n",
       "      <td>0.726744</td>\n",
       "      <td>0.289017</td>\n",
       "      <td>2.421864</td>\n",
       "      <td>0.412854</td>\n",
       "      <td>2.42186</td>\n",
       "      <td>0</td>\n",
       "      <td>3.46</td>\n",
       "    </tr>\n",
       "    <tr>\n",
       "      <th>49</th>\n",
       "      <td>1.250</td>\n",
       "      <td>4.600</td>\n",
       "      <td>favori</td>\n",
       "      <td>favori</td>\n",
       "      <td>0.475109</td>\n",
       "      <td>0.524891</td>\n",
       "      <td>0.800000</td>\n",
       "      <td>0.217391</td>\n",
       "      <td>2.414499</td>\n",
       "      <td>0.593886</td>\n",
       "      <td>2.4145</td>\n",
       "      <td>1</td>\n",
       "      <td>4.60</td>\n",
       "    </tr>\n",
       "  </tbody>\n",
       "</table>\n",
       "</div>"
      ],
      "text/plain": [
       "     PS_C   PS_F   Vainqueur  Prediction  Proba_Challenger  Proba_Favori  \\\n",
       "0   1.090  9.550  challenger      favori          0.440924      0.559076   \n",
       "1   1.126  8.150  challenger      favori          0.456733      0.543267   \n",
       "2   8.080  1.120      favori  challenger          0.537526      0.462474   \n",
       "3   1.232  4.910  challenger      favori          0.144678      0.855322   \n",
       "4   1.156  6.800  challenger      favori          0.399994      0.600006   \n",
       "5   1.232  4.910  challenger      favori          0.187375      0.812625   \n",
       "6   1.171  6.350  challenger      favori          0.378506      0.621494   \n",
       "7   1.160  6.700  challenger      favori          0.457078      0.542922   \n",
       "8   1.162  6.590  challenger      favori          0.451052      0.548948   \n",
       "9   1.150  6.160  challenger      favori          0.414248      0.585752   \n",
       "10  6.100  1.154  challenger  challenger          0.584105      0.415895   \n",
       "11  1.167  6.400      favori      favori          0.444438      0.555562   \n",
       "12  1.140  6.870  challenger      favori          0.496228      0.503772   \n",
       "13  1.267  4.450      favori      favori          0.290255      0.709745   \n",
       "14  1.213  5.300  challenger      favori          0.409006      0.590994   \n",
       "15  1.269  4.420  challenger      favori          0.291872      0.708128   \n",
       "16  1.241  4.750      favori      favori          0.346546      0.653454   \n",
       "17  1.187  5.250  challenger      favori          0.418482      0.581518   \n",
       "18  5.550  1.180      favori  challenger          0.546180      0.453820   \n",
       "19  1.185  5.900      favori      favori          0.497718      0.502282   \n",
       "20  1.250  4.650  challenger      favori          0.376156      0.623844   \n",
       "21  5.000  1.227      favori  challenger          0.579410      0.420590   \n",
       "22  1.198  5.540  challenger      favori          0.486651      0.513349   \n",
       "23  1.180  5.630  challenger      favori          0.497119      0.502881   \n",
       "24  1.250  4.460  challenger      favori          0.376172      0.623827   \n",
       "25  1.240  4.650  challenger      favori          0.402384      0.597616   \n",
       "26  1.201  5.470      favori      favori          0.496662      0.503338   \n",
       "27  4.850  1.220  challenger  challenger          0.565347      0.434653   \n",
       "28  1.357  3.400  challenger      favori          0.194974      0.805026   \n",
       "29  1.200  5.290  challenger      favori          0.483308      0.516692   \n",
       "30  1.200  5.240  challenger      favori          0.489683      0.510317   \n",
       "31  5.120  1.210      favori  challenger          0.510283      0.489717   \n",
       "32  1.230  4.770  challenger      favori          0.453377      0.546623   \n",
       "33  1.248  4.640  challenger      favori          0.440805      0.559195   \n",
       "34  1.222  5.100      favori      favori          0.492422      0.507578   \n",
       "35  4.740  1.220      favori  challenger          0.545847      0.454153   \n",
       "36  1.260  4.220  challenger      favori          0.389179      0.610821   \n",
       "37  4.550  1.260      favori  challenger          0.563957      0.436043   \n",
       "38  4.730  1.240  challenger  challenger          0.533821      0.466179   \n",
       "39  1.280  4.060  challenger      favori          0.379299      0.620701   \n",
       "40  1.240  4.640      favori      favori          0.458019      0.541981   \n",
       "41  1.310  3.860  challenger      favori          0.349516      0.650485   \n",
       "42  4.830  1.220  challenger  challenger          0.513427      0.486573   \n",
       "43  1.291  4.140  challenger      favori          0.401391      0.598609   \n",
       "44  1.308  3.950  challenger      favori          0.380269      0.619731   \n",
       "45  1.290  4.050  challenger      favori          0.396523      0.603477   \n",
       "46  1.300  3.900      favori      favori          0.376470      0.623530   \n",
       "47  1.213  4.800  challenger      favori          0.494127      0.505873   \n",
       "48  1.376  3.460  challenger      favori          0.300039      0.699961   \n",
       "49  1.250  4.600      favori      favori          0.475109      0.524891   \n",
       "\n",
       "    proba_PS_Challenger  proba_PS_Favori  gain_theoriq_F  gain_theoriq_C  \\\n",
       "0              0.917431         0.104712        5.339172        0.480608   \n",
       "1              0.888099         0.122699        4.427625        0.514281   \n",
       "2              0.123762         0.892857        0.517971        4.343209   \n",
       "3              0.811688         0.203666        4.199632        0.178243   \n",
       "4              0.865052         0.147059        4.080043        0.462393   \n",
       "5              0.811688         0.203666        3.989991        0.230845   \n",
       "6              0.853971         0.157480        3.946485        0.443231   \n",
       "7              0.862069         0.149254        3.637580        0.530210   \n",
       "8              0.860585         0.151745        3.617569        0.524122   \n",
       "9              0.869565         0.162338        3.608233        0.476385   \n",
       "10             0.163934         0.866551        0.479943        3.563040   \n",
       "11             0.856898         0.156250        3.555597        0.518659   \n",
       "12             0.877193         0.145560        3.460915        0.565700   \n",
       "13             0.789266         0.224719        3.158365        0.367753   \n",
       "14             0.824402         0.188679        3.132267        0.496125   \n",
       "15             0.788022         0.226244        3.129927        0.370385   \n",
       "16             0.805802         0.210526        3.103905        0.430064   \n",
       "17             0.842460         0.190476        3.052968        0.496738   \n",
       "18             0.180180         0.847458        0.535508        3.031298   \n",
       "19             0.843882         0.169492        2.963466        0.589795   \n",
       "20             0.800000         0.215054        2.900873        0.470196   \n",
       "21             0.200000         0.814996        0.516064        2.897050   \n",
       "22             0.834725         0.180505        2.843955        0.583008   \n",
       "23             0.847458         0.177620        2.831222        0.586600   \n",
       "24             0.800000         0.224215        2.782271        0.470216   \n",
       "25             0.806452         0.215054        2.778914        0.498956   \n",
       "26             0.832639         0.182815        2.753257        0.596491   \n",
       "27             0.206186         0.819672        0.530277        2.741931   \n",
       "28             0.736920         0.294118        2.737089        0.264580   \n",
       "29             0.833333         0.189036        2.733301        0.579970   \n",
       "30             0.833333         0.190840        2.674059        0.587620   \n",
       "31             0.195312         0.826446        0.592558        2.612648   \n",
       "32             0.813008         0.209644        2.607391        0.557654   \n",
       "33             0.801282         0.215517        2.594665        0.550125   \n",
       "34             0.818331         0.196078        2.588648        0.601740   \n",
       "35             0.210970         0.819672        0.554066        2.587317   \n",
       "36             0.793651         0.236967        2.577664        0.490366   \n",
       "37             0.219780         0.793651        0.549414        2.566005   \n",
       "38             0.211416         0.806452        0.578062        2.524974   \n",
       "39             0.781250         0.246305        2.520048        0.485502   \n",
       "40             0.806452         0.215517        2.514790        0.567944   \n",
       "41             0.763359         0.259067        2.510870        0.457865   \n",
       "42             0.207039         0.819672        0.593618        2.479855   \n",
       "43             0.774593         0.241546        2.478241        0.518196   \n",
       "44             0.764526         0.253165        2.447936        0.497392   \n",
       "45             0.775194         0.246914        2.444083        0.511514   \n",
       "46             0.769231         0.256410        2.431768        0.489411   \n",
       "47             0.824402         0.208333        2.428190        0.599376   \n",
       "48             0.726744         0.289017        2.421864        0.412854   \n",
       "49             0.800000         0.217391        2.414499        0.593886   \n",
       "\n",
       "   gain_confiance  pari gagné  cote  \n",
       "0         5.33917           0  9.55  \n",
       "1         4.42763           0  8.15  \n",
       "2         4.34321           0  8.08  \n",
       "3         4.19963           0  4.91  \n",
       "4         4.08004           0  6.80  \n",
       "5         3.98999           0  4.91  \n",
       "6         3.94649           0  6.35  \n",
       "7         3.63758           0  6.70  \n",
       "8         3.61757           0  6.59  \n",
       "9         3.60823           0  6.16  \n",
       "10        3.56304           1  6.10  \n",
       "11         3.5556           1  6.40  \n",
       "12        3.46092           0  6.87  \n",
       "13        3.15837           1  4.45  \n",
       "14        3.13227           0  5.30  \n",
       "15        3.12993           0  4.42  \n",
       "16        3.10391           1  4.75  \n",
       "17        3.05297           0  5.25  \n",
       "18         3.0313           0  5.55  \n",
       "19        2.96347           1  5.90  \n",
       "20        2.90087           0  4.65  \n",
       "21        2.89705           0  5.00  \n",
       "22        2.84395           0  5.54  \n",
       "23        2.83122           0  5.63  \n",
       "24        2.78227           0  4.46  \n",
       "25        2.77891           0  4.65  \n",
       "26        2.75326           1  5.47  \n",
       "27        2.74193           1  4.85  \n",
       "28        2.73709           0  3.40  \n",
       "29         2.7333           0  5.29  \n",
       "30        2.67406           0  5.24  \n",
       "31        2.61265           0  5.12  \n",
       "32        2.60739           0  4.77  \n",
       "33        2.59467           0  4.64  \n",
       "34        2.58865           1  5.10  \n",
       "35        2.58732           0  4.74  \n",
       "36        2.57766           0  4.22  \n",
       "37        2.56601           0  4.55  \n",
       "38        2.52497           1  4.73  \n",
       "39        2.52005           0  4.06  \n",
       "40        2.51479           1  4.64  \n",
       "41        2.51087           0  3.86  \n",
       "42        2.47985           1  4.83  \n",
       "43        2.47824           0  4.14  \n",
       "44        2.44794           0  3.95  \n",
       "45        2.44408           0  4.05  \n",
       "46        2.43177           1  3.90  \n",
       "47        2.42819           0  4.80  \n",
       "48        2.42186           0  3.46  \n",
       "49         2.4145           1  4.60  "
      ]
     },
     "execution_count": 100,
     "metadata": {},
     "output_type": "execute_result"
    }
   ],
   "source": [
    "test.head(50)"
   ]
  },
  {
   "cell_type": "code",
   "execution_count": 101,
   "metadata": {},
   "outputs": [],
   "source": [
    "#fonction calculant le gain pour n match pariés\n",
    "def gain(n):\n",
    "    gain = 0.1\n",
    "    argent = 0.1\n",
    "    gain_roi = []\n",
    "    mise_totale = 0\n",
    "    for i in range(n):\n",
    "        mise = 1\n",
    "        if test[\"pari gagné\"][i] == 1:\n",
    "                argent += mise * test.loc[i,\"cote\"] -1\n",
    "        else:\n",
    "                argent -= mise\n",
    "    #print(f\"pour {n} matchs, vous avez gagné {round(argent,2)} et le rendement est de {ROI}% \")\n",
    "    return argent\n",
    "\n",
    "#fonction calculant le ROI pour n match (c'est la meme fonction qu'au dessus mais je n'arrive pas à récupérer séparemment les valeurs du tuple ensuite)\n",
    "def Rent(n):\n",
    "    gain = 0.1\n",
    "    argent = 0.1\n",
    "    gain_roi = []\n",
    "    mise_totale = 0\n",
    "    for i in range(n):\n",
    "        mise = 1\n",
    "        if test[\"pari gagné\"][i] == 1:\n",
    "                gain += mise * test[\"cote\"][i]\n",
    "                argent += mise * test.loc[i,\"cote\"] -1\n",
    "        else:\n",
    "                argent -= mise\n",
    "                gain += 0\n",
    "        mise_totale += mise\n",
    "    ROI = (gain -  n)/ n + 1 \n",
    "    #print(f\"pour {n} matchs, vous avez gagné {round(argent,2)} et le rendement est de {ROI}% \")\n",
    "    return ROI"
   ]
  },
  {
   "cell_type": "code",
   "execution_count": 102,
   "metadata": {},
   "outputs": [],
   "source": [
    "#création d'une liste de  gain en fonction du nombre de match parié\n",
    "nombre_de_paris = np.linspace(1,len(test),50,dtype=int)\n",
    "gain_pari = []\n",
    "ROI=[]\n",
    "for i in nombre_de_paris:\n",
    "    gain_pari.append(gain(i))\n",
    "    ROI.append(Rent(i))    "
   ]
  },
  {
   "cell_type": "code",
   "execution_count": 103,
   "metadata": {},
   "outputs": [
    {
     "data": {
      "image/png": "[encoded data removed]",
      "text/plain": [
       "<Figure size 864x360 with 1 Axes>"
      ]
     },
     "metadata": {
      "needs_background": "light"
     },
     "output_type": "display_data"
    },
    {
     "data": {
      "image/png": "[encoded data removed]",
      "text/plain": [
       "<Figure size 864x360 with 1 Axes>"
      ]
     },
     "metadata": {
      "needs_background": "light"
     },
     "output_type": "display_data"
    }
   ],
   "source": [
    "#affichage des gains en fonction du nombre de match pariés\n",
    "plt.figure(figsize=(12,5))\n",
    "plt.plot(nombre_de_paris, gain_pari)\n",
    "plt.xlabel('nombre de paris')\n",
    "plt.ylabel('gain');\n",
    "plt.title(f\"Gain des paris en fonction du nb de match \")\n",
    "plt.show()\n",
    "\n",
    "#affichage des gains en fonction du nombre de match pariés\n",
    "plt.figure(figsize=(12,5))\n",
    "plt.plot(nombre_de_paris, ROI)\n",
    "plt.xlabel('nombre de paris')\n",
    "plt.ylabel('ROI');\n",
    "plt.title(f\"ROI en fonction du nb de match \")\n",
    "plt.ylim(1)\n",
    "plt.show()\n"
   ]
  },
  {
   "cell_type": "code",
   "execution_count": null,
   "metadata": {},
   "outputs": [],
   "source": []
  }
 ],
 "metadata": {
  "kernelspec": {
   "display_name": "Python 3",
   "language": "python",
   "name": "python3"
  },
  "language_info": {
   "codemirror_mode": {
    "name": "ipython",
    "version": 3
   },
   "file_extension": ".py",
   "mimetype": "text/x-python",
   "name": "python",
   "nbconvert_exporter": "python",
   "pygments_lexer": "ipython3",
   "version": "3.8.5"
  }
 },
 "nbformat": 4,
 "nbformat_minor": 4
}
